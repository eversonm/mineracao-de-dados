{
 "cells": [
  {
   "cell_type": "markdown",
   "metadata": {},
   "source": [
    "## Instalação Selenium\n",
    "Selenium requires a driver to interface with the chosen browser. Firefox, for example, requires geckodriver, which needs to be installed before the below examples can be run. Make sure it’s in your PATH, e. g., place it in /usr/bin or /usr/local/bin.\n",
    "\n",
    "Failure to observe this step will give you an error selenium.common.exceptions.WebDriverException: Message: ‘geckodriver’ executable needs to be in PATH.\n",
    "\n",
    "Other supported browsers will have their own drivers available. Links to some of the more popular browser drivers follow.\n",
    "### Baixe algum desses drivers\n",
    "Chrome:\thttps://sites.google.com/a/chromium.org/chromedriver/downloads\n",
    "\n",
    "Edge:\thttps://developer.microsoft.com/en-us/microsoft-edge/tools/webdriver/\n",
    "\n",
    "Firefox:\thttps://github.com/mozilla/geckodriver/releases\n",
    "\n",
    "### Link de instuções de istalação\n",
    "https://selenium-python.readthedocs.io/installation.html#downloading-python-bindings-for-selenium"
   ]
  },
  {
   "cell_type": "markdown",
   "metadata": {},
   "source": [
    "pip install selenium"
   ]
  },
  {
   "cell_type": "code",
   "execution_count": 1,
   "metadata": {},
   "outputs": [],
   "source": [
    "from selenium import webdriver\n",
    "from selenium.webdriver.common.keys import Keys\n",
    "from selenium.webdriver.firefox.options import Options\n",
    "from selenium.webdriver.support.ui import WebDriverWait\n",
    "from selenium.webdriver.support import expected_conditions as EC\n",
    "from selenium.webdriver.common.by import By\n",
    "from dados import credenciais\n",
    "import time"
   ]
  },
  {
   "cell_type": "code",
   "execution_count": 5,
   "metadata": {},
   "outputs": [],
   "source": [
    "options = Options()\n",
    "\n",
    "options.add_argument('--headless')\n",
    "\n",
    "fp = webdriver.FirefoxProfile()\n",
    "fp.set_preference('browser.download.folderList', 2) # 2 means custom location\n",
    "fp.set_preference('browser.download.manager.showWhenStarting', False)\n",
    "fp.set_preference('browser.download.dir', '/home/everson/git/mineracao-de-dados') # location is tmp\n",
    "fp.set_preference('browser.helperApps.neverAsk.saveToDisk', 'application/json')"
   ]
  },
  {
   "cell_type": "code",
   "execution_count": 22,
   "metadata": {},
   "outputs": [],
   "source": [
    "import numpy as np\n",
    "array_ano = np.arange(10,21)\n",
    "array_mes = np.arange(1,13)"
   ]
  },
  {
   "cell_type": "code",
   "execution_count": 14,
   "metadata": {},
   "outputs": [],
   "source": [
    "def SSP_SP(driver):\n",
    "\n",
    "    driver.get (\"http://www.ssp.sp.gov.br/transparenciassp/Consulta.aspx\")\n",
    "    time.sleep(2)\n",
    "    driver.find_element_by_id(\"cphBody_btnRouboCelular\").click()\n",
    "    time.sleep(2)\n",
    "    driver.find_element_by_id(\"cphBody_lkAno20\").click()\n",
    "    time.sleep(2)\n",
    "    driver.find_element_by_id(\"cphBody_lkMes1\").click()\n",
    "    time.sleep(2)\n",
    "    driver.find_element_by_id(\"cphBody_ExportarBOLink\").click()"
   ]
  },
  {
   "cell_type": "code",
   "execution_count": null,
   "metadata": {},
   "outputs": [],
   "source": [
    "def SSP_SP_all(driver):\n",
    "    driver.find_element_by_id(\"cphBody_btnRouboCelular\").click()\n",
    "    for item in array_ano:\n",
    "        driver.find_element_by_id(\"cphBody_lkAno\"+str(item)).click()\n",
    "        for i in array_mes:\n",
    "            try:\n",
    "                driver.find_element_by_id(\"cphBody_lkMes\"+str(i)).click()\n",
    "                driver.find_element_by_id(\"cphBody_ExportarBOLink\").click()\n",
    "            except:\n",
    "                pass"
   ]
  },
  {
   "cell_type": "code",
   "execution_count": 15,
   "metadata": {},
   "outputs": [],
   "source": [
    "driver = webdriver.Firefox(fp)\n",
    "SSP_SP(driver)"
   ]
  }
 ],
 "metadata": {
  "kernelspec": {
   "display_name": "Python 3",
   "language": "python",
   "name": "python3"
  },
  "language_info": {
   "codemirror_mode": {
    "name": "ipython",
    "version": 3
   },
   "file_extension": ".py",
   "mimetype": "text/x-python",
   "name": "python",
   "nbconvert_exporter": "python",
   "pygments_lexer": "ipython3",
   "version": "3.7.9"
  }
 },
 "nbformat": 4,
 "nbformat_minor": 4
}
