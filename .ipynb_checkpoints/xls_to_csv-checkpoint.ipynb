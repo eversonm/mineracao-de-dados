{
 "cells": [
  {
   "cell_type": "code",
   "execution_count": 3,
   "metadata": {},
   "outputs": [],
   "source": [
    "import os\n",
    "import glob\n",
    "\n",
    "def listDir(path = '/home/everson/git/mineracao-de-dados/datasets/'):\n",
    "    extension = 'xls'\n",
    "    os.chdir(path)\n",
    "    result = glob.glob('*.{}'.format(extension))\n",
    "    lista = []\n",
    "    for item in result:\n",
    "        lista.append(item)\n",
    "    return lista"
   ]
  },
  {
   "cell_type": "code",
   "execution_count": 4,
   "metadata": {},
   "outputs": [],
   "source": [
    "lista = listDir()"
   ]
  },
  {
   "cell_type": "code",
   "execution_count": 8,
   "metadata": {},
   "outputs": [],
   "source": [
    "lista.remove('file.xls')\n",
    "lista.remove('1.xls')"
   ]
  },
  {
   "cell_type": "code",
   "execution_count": 9,
   "metadata": {},
   "outputs": [
    {
     "data": {
      "text/plain": [
       "['DadosBO_2020_5(ROUBO DE CELULAR).xls',\n",
       " 'DadosBO_2019_8(ROUBO DE CELULAR).xls',\n",
       " 'DadosBO_2019_4(ROUBO DE CELULAR).xls',\n",
       " 'DadosBO_2019_2(ROUBO DE CELULAR).xls',\n",
       " 'DadosBO_2020_6(ROUBO DE CELULAR).xls',\n",
       " 'DadosBO_2020_4(ROUBO DE CELULAR).xls',\n",
       " 'DadosBO_2019_9(ROUBO DE CELULAR).xls',\n",
       " 'DadosBO_2019_6(ROUBO DE CELULAR).xls',\n",
       " 'DadosBO_2019_10(ROUBO DE CELULAR).xls',\n",
       " 'DadosBO_2020_1(ROUBO DE CELULAR).xls',\n",
       " 'DadosBO_2020_2(ROUBO DE CELULAR).xls',\n",
       " 'DadosBO_2020_7(ROUBO DE CELULAR).xls',\n",
       " 'DadosBO_2019_11(ROUBO DE CELULAR).xls',\n",
       " 'DadosBO_2020_3(ROUBO DE CELULAR).xls',\n",
       " 'DadosBO_2019_3(ROUBO DE CELULAR).xls',\n",
       " 'DadosBO_2019_1(ROUBO DE CELULAR).xls',\n",
       " 'DadosBO_2019_7(ROUBO DE CELULAR).xls',\n",
       " 'DadosBO_2019_12(ROUBO DE CELULAR).xls',\n",
       " 'DadosBO_2020_8(ROUBO DE CELULAR).xls',\n",
       " 'DadosBO_2019_5(ROUBO DE CELULAR).xls']"
      ]
     },
     "execution_count": 9,
     "metadata": {},
     "output_type": "execute_result"
    }
   ],
   "source": [
    "lista"
   ]
  },
  {
   "cell_type": "code",
   "execution_count": 15,
   "metadata": {},
   "outputs": [],
   "source": [
    "from __future__ import unicode_literals\n",
    "from xlwt import Workbook\n",
    "import io\n",
    "def open_xls(filen='DadosBO_2019_7(ROUBO DE CELULAR).xls'):\n",
    "    filename = '/home/everson/git/mineracao-de-dados/datasets/'+filen\n",
    "    file = io.open(filename, \"r\", encoding=\"utf-16-le\")\n",
    "    data = file.readlines()\n",
    "\n",
    "    # Creating a workbook object\n",
    "    xldoc = Workbook()\n",
    "    # Adding a sheet to the workbook object\n",
    "    sheet = xldoc.add_sheet(\"Sheet1\", cell_overwrite_ok=True)\n",
    "    # Iterating and saving the data to sheet\n",
    "    for i, row in enumerate(data):\n",
    "        # Two things are done here\n",
    "        # Removeing the '\\n' which comes while reading the file using io.open\n",
    "        # Getting the values after splitting using '\\t'\n",
    "        for j, val in enumerate(row.replace('\\n', '').split('\\t')):\n",
    "            sheet.write(i, j, val)\n",
    "\n",
    "    # Saving the file as an excel file\n",
    "    filename = '/home/everson/git/mineracao-de-dados/xls/'+filen\n",
    "    xldoc.save(filename)\n"
   ]
  },
  {
   "cell_type": "code",
   "execution_count": 10,
   "metadata": {},
   "outputs": [],
   "source": [
    "#####################################################\n",
    "import xlrd\n",
    "import csv\n",
    "\n",
    "def xls_to_csv(filen='DadosBO_2019_7(ROUBO DE CELULAR).xls'):\n",
    "    filename = '/home/everson/git/mineracao-de-dados/xls/'+filen\n",
    "    wb = xlrd.open_workbook(filename)\n",
    "    sh = wb.sheet_by_name('Sheet1')\n",
    "    filename = '/home/everson/git/mineracao-de-dados/data/'+filen\n",
    "    filename = filename.replace('.xls','.csv')\n",
    "    with open(filename, 'w') as f:\n",
    "        wr = csv.writer(f, delimiter=';')\n",
    "\n",
    "        for rownum in range(sh.nrows):\n",
    "            wr.writerow(sh.row_values(rownum))\n",
    "#https://stackoverflow.com/questions/9884353/xls-to-csv-converter\n",
    "#xls_to_csv()"
   ]
  },
  {
   "cell_type": "markdown",
   "metadata": {},
   "source": [
    "### Primeiro resolver o erro de xls corrompido"
   ]
  },
  {
   "cell_type": "code",
   "execution_count": 20,
   "metadata": {},
   "outputs": [],
   "source": [
    "for item in lista:\n",
    "    open_xls(item)"
   ]
  },
  {
   "cell_type": "markdown",
   "metadata": {},
   "source": [
    "### Depois converter o xls para csv"
   ]
  },
  {
   "cell_type": "code",
   "execution_count": 11,
   "metadata": {},
   "outputs": [],
   "source": [
    "for item in lista:\n",
    "    xls_to_csv(item)"
   ]
  }
 ],
 "metadata": {
  "kernelspec": {
   "display_name": "Python 3",
   "language": "python",
   "name": "python3"
  },
  "language_info": {
   "codemirror_mode": {
    "name": "ipython",
    "version": 3
   },
   "file_extension": ".py",
   "mimetype": "text/x-python",
   "name": "python",
   "nbconvert_exporter": "python",
   "pygments_lexer": "ipython3",
   "version": "3.7.9"
  }
 },
 "nbformat": 4,
 "nbformat_minor": 4
}
