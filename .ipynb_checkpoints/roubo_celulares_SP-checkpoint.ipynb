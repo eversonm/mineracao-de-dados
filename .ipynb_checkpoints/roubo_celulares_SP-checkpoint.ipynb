{
 "cells": [
  {
   "cell_type": "markdown",
   "metadata": {},
   "source": [
    "# Prevendo roubo de celulares em SP"
   ]
  },
  {
   "cell_type": "markdown",
   "metadata": {},
   "source": [
    "## Baixando biblioteca necessária\n",
    "`pip install xlwt`\n",
    "\n",
    "`conda install xlwt`"
   ]
  },
  {
   "cell_type": "markdown",
   "metadata": {},
   "source": [
    "## Importando bibliotecas Pandas e Numpy"
   ]
  },
  {
   "cell_type": "code",
   "execution_count": 1,
   "metadata": {},
   "outputs": [],
   "source": [
    "import pandas as pd\n",
    "import numpy as np"
   ]
  },
  {
   "cell_type": "markdown",
   "metadata": {},
   "source": [
    "## Abrindo arquivo XLS disponível no SSP-SP"
   ]
  },
  {
   "cell_type": "markdown",
   "metadata": {},
   "source": [
    "### Os arquivos possuem um erro, sendo impossível abrir o arquivo\n",
    "*XLRDError: Unsupported format, or corrupt file: Expected BOF record; found b'A\\x00N\\x00O\\x00_\\x00'*\n",
    "\n",
    "A solução foi encontrada nesse artigo do [Medium](https://medium.com/@jerilkuriakose/recover-corrupt-excel-file-xls-or-xlsx-using-python-2eea6bb07aae)"
   ]
  },
  {
   "cell_type": "markdown",
   "metadata": {},
   "source": [
    "#### Apenas para resolver o problema de formato\n",
    "Você pode até salvar o arquivo como .csv, mas a leitura pode informar algum erro"
   ]
  },
  {
   "cell_type": "code",
   "execution_count": 8,
   "metadata": {},
   "outputs": [],
   "source": [
    "from __future__ import unicode_literals\n",
    "# Used to save the file as excel workbook\n",
    "# Need to install this library\n",
    "from xlwt import Workbook\n",
    "# Used to open to corrupt excel file\n",
    "import io\n",
    "\n",
    "filename = 'datasets/DadosBO_2020_8.xls'\n",
    "# Opening the file using 'utf-16' encoding\n",
    "file = io.open(filename, \"r\", encoding=\"utf-16-le\")\n",
    "data = file.readlines()\n",
    "\n",
    "# Creating a workbook object\n",
    "xldoc = Workbook()\n",
    "# Adding a sheet to the workbook object\n",
    "sheet = xldoc.add_sheet(\"Sheet1\", cell_overwrite_ok=True)\n",
    "# Iterating and saving the data to sheet\n",
    "for i, row in enumerate(data):\n",
    "    # Two things are done here\n",
    "    # Removeing the '\\n' which comes while reading the file using io.open\n",
    "    # Getting the values after splitting using '\\t'\n",
    "    for j, val in enumerate(row.replace('\\n', '').split('\\t')):\n",
    "        sheet.write(i, j, val)\n",
    "    \n",
    "# Saving the file as an excel file\n",
    "xldoc.save('datasets/file.xls')"
   ]
  },
  {
   "cell_type": "markdown",
   "metadata": {},
   "source": [
    "#### Converter xls para csv"
   ]
  },
  {
   "cell_type": "code",
   "execution_count": 12,
   "metadata": {},
   "outputs": [],
   "source": [
    "import xlrd\n",
    "import csv\n",
    "\n",
    "def xls_to_csv():\n",
    "    wb = xlrd.open_workbook('datasets/file.xls')\n",
    "    sh = wb.sheet_by_name('Sheet1')\n",
    "    with open('dataset.csv', 'w') as f:\n",
    "        wr = csv.writer(f, quoting=csv.QUOTE_ALL)\n",
    "\n",
    "        for rownum in range(sh.nrows):\n",
    "            wr.writerow(sh.row_values(rownum))\n",
    "#https://stackoverflow.com/questions/9884353/xls-to-csv-converter\n",
    "xls_to_csv()"
   ]
  },
  {
   "cell_type": "markdown",
   "metadata": {},
   "source": [
    "## Carregando o dataset"
   ]
  },
  {
   "cell_type": "code",
   "execution_count": 47,
   "metadata": {
    "scrolled": true
   },
   "outputs": [],
   "source": [
    "#dataset = pd.read_excel(\"DadosBO_2020_7.xls\", engine='xlrd')\n",
    "columns = ['ANO_BO', 'NUM_BO', 'BO_INICIADO', 'BO_EMITIDO', 'DATAOCORRENCIA', 'HORAOCORRENCIA', 'PERIDOOCORRENCIA', 'DATACOMUNICACAO', 'DATAELABORACAO', 'BO_AUTORIA', 'FLAGRANTE', 'LOGRADOURO', 'NUMERO', 'BAIRRO', 'CIDADE', 'UF', 'LATITUDE', 'LONGITUDE', 'DESCRICAOLOCAL', 'SOLUCAO', 'DELEGACIA_NOME', 'DELEGACIA_CIRCUNSCRICAO', 'ESPECIE', 'RUBRICA', 'DESDOBRAMENTO', 'STATUS', 'QUANT_CELULAR', 'MARCA_CELULAR']\n",
    "\n",
    "column_dates = ['BO_INICIADO', 'BO_EMITIDO', 'DATAOCORRENCIA','DATACOMUNICACAO', 'DATAELABORACAO']\n",
    "\n",
    "dtypes = {\n",
    "    'ANO_BO': np.int32,\n",
    "    'NUM_BO': np.int64,\n",
    "    'QUANT_CELULAR': pd.Int16Dtype(),\n",
    "    'LATITUDE': np.float32,\n",
    "    'LONGITUDE': np.float32 \n",
    "}\n",
    "\n",
    "dataset = pd.read_excel(\"datasets/file.xls\", parse_dates=column_dates, usecols=columns, dtype=dtypes, thousands=',')"
   ]
  },
  {
   "cell_type": "code",
   "execution_count": 85,
   "metadata": {},
   "outputs": [
    {
     "data": {
      "text/plain": [
       "ANO_BO                              int32\n",
       "NUM_BO                              int64\n",
       "BO_INICIADO                datetime64[ns]\n",
       "BO_EMITIDO                 datetime64[ns]\n",
       "DATAOCORRENCIA             datetime64[ns]\n",
       "HORAOCORRENCIA             datetime64[ns]\n",
       "PERIDOOCORRENCIA                   object\n",
       "DATACOMUNICACAO            datetime64[ns]\n",
       "DATAELABORACAO             datetime64[ns]\n",
       "BO_AUTORIA                         object\n",
       "FLAGRANTE                          object\n",
       "LOGRADOURO                         object\n",
       "NUMERO                            float64\n",
       "BAIRRO                             object\n",
       "CIDADE                             object\n",
       "UF                                 object\n",
       "LATITUDE                          float32\n",
       "LONGITUDE                         float32\n",
       "DESCRICAOLOCAL                     object\n",
       "SOLUCAO                            object\n",
       "DELEGACIA_NOME                     object\n",
       "DELEGACIA_CIRCUNSCRICAO            object\n",
       "ESPECIE                            object\n",
       "RUBRICA                            object\n",
       "DESDOBRAMENTO                      object\n",
       "STATUS                             object\n",
       "QUANT_CELULAR                       Int16\n",
       "MARCA_CELULAR                      object\n",
       "dtype: object"
      ]
     },
     "execution_count": 85,
     "metadata": {},
     "output_type": "execute_result"
    }
   ],
   "source": [
    "dataset.dtypes"
   ]
  },
  {
   "cell_type": "markdown",
   "metadata": {},
   "source": [
    "### Análise gráfica dos dados"
   ]
  },
  {
   "cell_type": "code",
   "execution_count": null,
   "metadata": {},
   "outputs": [],
   "source": []
  },
  {
   "cell_type": "code",
   "execution_count": null,
   "metadata": {},
   "outputs": [],
   "source": []
  },
  {
   "cell_type": "markdown",
   "metadata": {},
   "source": [
    "#### Capturando nome das colunas importantes no dataset"
   ]
  },
  {
   "cell_type": "code",
   "execution_count": 39,
   "metadata": {},
   "outputs": [
    {
     "data": {
      "text/plain": [
       "\"'ANO_BO', 'NUM_BO', 'NUMERO_BOLETIM', 'BO_INICIADO', 'BO_EMITIDO', 'DATAOCORRENCIA', 'HORAOCORRENCIA', 'PERIDOOCORRENCIA', 'DATACOMUNICACAO', 'DATAELABORACAO', 'BO_AUTORIA', 'FLAGRANTE', 'NUMERO_BOLETIM_PRINCIPAL', 'LOGRADOURO', 'NUMERO', 'BAIRRO', 'CIDADE', 'UF', 'LATITUDE', 'LONGITUDE', 'DESCRICAOLOCAL', 'EXAME', 'SOLUCAO', 'DELEGACIA_NOME', 'DELEGACIA_CIRCUNSCRICAO', 'ESPECIE', 'RUBRICA', 'DESDOBRAMENTO', 'STATUS', 'NOMEPESSOA', 'TIPOPESSOA', 'VITIMAFATAL', 'RG', 'RG_UF', 'NATURALIDADE', 'NACIONALIDADE', 'SEXO', 'DATANASCIMENTO', 'IDADE', 'ESTADOCIVIL', 'PROFISSAO', 'GRAUINSTRUCAO', 'CORCUTIS', 'NATUREZAVINCULADA', 'TIPOVINCULO', 'RELACIONAMENTO', 'PARENTESCO', 'PLACA_VEICULO', 'UF_VEICULO', 'CIDADE_VEICULO', 'DESCR_COR_VEICULO', 'DESCR_MARCA_VEICULO', 'ANO_FABRICACAO', 'ANO_MODELO', 'DESCR_TIPO_VEICULO', 'QUANT_CELULAR', 'MARCA_CELULAR', \""
      ]
     },
     "execution_count": 39,
     "metadata": {},
     "output_type": "execute_result"
    }
   ],
   "source": [
    "string_gerada=\"\"\n",
    "for item in dataset.columns:\n",
    "    string_gerada += \"'\"+item+\"'\"+\", \"\n",
    "string_gerada"
   ]
  },
  {
   "cell_type": "code",
   "execution_count": 42,
   "metadata": {},
   "outputs": [],
   "source": [
    "drop_c = ['ANO_BO', 'NUM_BO', 'BO_INICIADO', 'BO_EMITIDO', 'DATAOCORRENCIA', 'HORAOCORRENCIA', 'PERIDOOCORRENCIA', 'DATACOMUNICACAO', 'DATAELABORACAO', 'BO_AUTORIA', 'FLAGRANTE', 'LOGRADOURO', 'NUMERO', 'BAIRRO', 'CIDADE', 'UF', 'LATITUDE', 'LONGITUDE', 'DESCRICAOLOCAL', 'SOLUCAO', 'DELEGACIA_NOME', 'DELEGACIA_CIRCUNSCRICAO', 'ESPECIE', 'RUBRICA', 'DESDOBRAMENTO', 'STATUS', 'QUANT_CELULAR', 'MARCA_CELULAR']"
   ]
  },
  {
   "cell_type": "code",
   "execution_count": null,
   "metadata": {},
   "outputs": [],
   "source": [
    "string_gerada=[]\n",
    "for item in dataset.columns:\n",
    "    string_gerada.append(item)\n",
    "string_gerada"
   ]
  },
  {
   "cell_type": "code",
   "execution_count": 47,
   "metadata": {},
   "outputs": [],
   "source": [
    "columns = ['NUMERO_BOLETIM', 'NUMERO_BOLETIM_PRINCIPAL', 'EXAME', 'NOMEPESSOA', 'TIPOPESSOA', 'VITIMAFATAL', 'RG', 'RG_UF', 'NATURALIDADE', 'NACIONALIDADE', 'SEXO', 'DATANASCIMENTO', 'IDADE', 'ESTADOCIVIL', 'PROFISSAO', 'GRAUINSTRUCAO', 'CORCUTIS', 'NATUREZAVINCULADA', 'TIPOVINCULO', 'RELACIONAMENTO', 'PARENTESCO', 'PLACA_VEICULO', 'UF_VEICULO', 'CIDADE_VEICULO', 'DESCR_COR_VEICULO', 'DESCR_MARCA_VEICULO', 'ANO_FABRICACAO', 'ANO_MODELO', 'DESCR_TIPO_VEICULO']"
   ]
  },
  {
   "cell_type": "markdown",
   "metadata": {},
   "source": [
    "https://pandas.pydata.org/pandas-docs/stable/reference/api/pandas.read_excel.html\n"
   ]
  }
 ],
 "metadata": {
  "kernelspec": {
   "display_name": "Python 3",
   "language": "python",
   "name": "python3"
  },
  "language_info": {
   "codemirror_mode": {
    "name": "ipython",
    "version": 3
   },
   "file_extension": ".py",
   "mimetype": "text/x-python",
   "name": "python",
   "nbconvert_exporter": "python",
   "pygments_lexer": "ipython3",
   "version": "3.7.9"
  }
 },
 "nbformat": 4,
 "nbformat_minor": 4
}
