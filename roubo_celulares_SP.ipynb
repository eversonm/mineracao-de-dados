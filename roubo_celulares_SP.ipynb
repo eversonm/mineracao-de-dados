{
 "cells": [
  {
   "cell_type": "markdown",
   "metadata": {},
   "source": [
    "# Prevendo roubo de celulares em SP"
   ]
  },
  {
   "cell_type": "markdown",
   "metadata": {},
   "source": [
    "## Baixando biblioteca necessária\n",
    "`pip install xlwt`\n",
    "\n",
    "`conda install xlwt`"
   ]
  },
  {
   "cell_type": "markdown",
   "metadata": {},
   "source": [
    "## Importando bibliotecas Pandas e Numpy"
   ]
  },
  {
   "cell_type": "code",
   "execution_count": 1,
   "metadata": {},
   "outputs": [],
   "source": [
    "import pandas as pd\n",
    "import numpy as np"
   ]
  },
  {
   "cell_type": "markdown",
   "metadata": {},
   "source": [
    "## Abrindo arquivo XLS disponível no SSP-SP"
   ]
  },
  {
   "cell_type": "markdown",
   "metadata": {},
   "source": [
    "### Os arquivos possuem um erro, sendo impossível abrir o arquivo\n",
    "*XLRDError: Unsupported format, or corrupt file: Expected BOF record; found b'A\\x00N\\x00O\\x00_\\x00'*\n",
    "\n",
    "A solução foi encontrada nesse artigo do [Medium](https://medium.com/@jerilkuriakose/recover-corrupt-excel-file-xls-or-xlsx-using-python-2eea6bb07aae)"
   ]
  },
  {
   "cell_type": "markdown",
   "metadata": {},
   "source": [
    "#### Apenas para resolver o problema de formato\n",
    "Você pode até salvar o arquivo como .csv, mas a leitura pode informar algum erro"
   ]
  },
  {
   "cell_type": "code",
   "execution_count": null,
   "metadata": {},
   "outputs": [],
   "source": [
    "from __future__ import unicode_literals\n",
    "# Used to save the file as excel workbook\n",
    "# Need to install this library\n",
    "from xlwt import Workbook\n",
    "# Used to open to corrupt excel file\n",
    "import io\n",
    "\n",
    "filename = 'datasets/DadosBO_2020_8.xls'\n",
    "# Opening the file using 'utf-16' encoding\n",
    "file = io.open(filename, \"r\", encoding=\"utf-16-le\")\n",
    "data = file.readlines()\n",
    "\n",
    "# Creating a workbook object\n",
    "xldoc = Workbook()\n",
    "# Adding a sheet to the workbook object\n",
    "sheet = xldoc.add_sheet(\"Sheet1\", cell_overwrite_ok=True)\n",
    "# Iterating and saving the data to sheet\n",
    "for i, row in enumerate(data):\n",
    "    # Two things are done here\n",
    "    # Removeing the '\\n' which comes while reading the file using io.open\n",
    "    # Getting the values after splitting using '\\t'\n",
    "    for j, val in enumerate(row.replace('\\n', '').split('\\t')):\n",
    "        sheet.write(i, j, val)\n",
    "    \n",
    "# Saving the file as an excel file\n",
    "xldoc.save('datasets/file.xls')"
   ]
  },
  {
   "cell_type": "markdown",
   "metadata": {},
   "source": [
    "#### Converter xls para csv"
   ]
  },
  {
   "cell_type": "code",
   "execution_count": null,
   "metadata": {
    "scrolled": true
   },
   "outputs": [],
   "source": [
    "import xlrd\n",
    "import csv\n",
    "\n",
    "def xls_to_csv():\n",
    "    wb = xlrd.open_workbook('datasets/file.xls')\n",
    "    sh = wb.sheet_by_name('Sheet1')\n",
    "    with open('dataset.csv', 'w') as f:\n",
    "        wr = csv.writer(f, quoting=csv.QUOTE_ALL)\n",
    "\n",
    "        for rownum in range(sh.nrows):\n",
    "            wr.writerow(sh.row_values(rownum))\n",
    "#https://stackoverflow.com/questions/9884353/xls-to-csv-converter\n",
    "xls_to_csv()"
   ]
  },
  {
   "cell_type": "markdown",
   "metadata": {},
   "source": [
    "## Carregando o dataset"
   ]
  },
  {
   "cell_type": "code",
   "execution_count": 29,
   "metadata": {
    "scrolled": true
   },
   "outputs": [],
   "source": [
    "#dataset = pd.read_excel(\"DadosBO_2020_7.xls\", engine='xlrd')\n",
    "from datetime import datetime\n",
    "dateparse = lambda x: datetime.strptime(x, '%d-%m-%Y %H:%M:%S')\n",
    "\n",
    "columns = ['ANO_BO', 'NUM_BO', 'BO_INICIADO', 'BO_EMITIDO', 'DATAOCORRENCIA', 'HORAOCORRENCIA', 'PERIDOOCORRENCIA', 'DATACOMUNICACAO', 'DATAELABORACAO', 'BO_AUTORIA', 'FLAGRANTE', 'LOGRADOURO', 'NUMERO', 'BAIRRO', 'CIDADE', 'UF', 'LATITUDE', 'LONGITUDE', 'DESCRICAOLOCAL', 'DESCR_TIPO_VEICULO', 'SOLUCAO', 'DELEGACIA_NOME', 'DELEGACIA_CIRCUNSCRICAO', 'ESPECIE', 'RUBRICA', 'DESDOBRAMENTO', 'STATUS', 'QUANT_CELULAR', 'MARCA_CELULAR']\n",
    "\n",
    "column_dates = ['BO_INICIADO', 'BO_EMITIDO', 'DATACOMUNICACAO', 'DATAELABORACAO']\n",
    "\n",
    "dtypes = {\n",
    "    'ANO_BO': np.int32,\n",
    "    'NUM_BO': np.int64,\n",
    "    'QUANT_CELULAR': pd.Int16Dtype(),\n",
    "    'LATITUDE': np.float32,\n",
    "    'LONGITUDE': np.float32 \n",
    "}\n",
    "\n",
    "dataset = pd.read_excel(\"datasets/file.xls\", usecols=columns, dtype=dtypes, thousands=',')"
   ]
  },
  {
   "cell_type": "code",
   "execution_count": 31,
   "metadata": {},
   "outputs": [
    {
     "data": {
      "text/html": [
       "<div>\n",
       "<style scoped>\n",
       "    .dataframe tbody tr th:only-of-type {\n",
       "        vertical-align: middle;\n",
       "    }\n",
       "\n",
       "    .dataframe tbody tr th {\n",
       "        vertical-align: top;\n",
       "    }\n",
       "\n",
       "    .dataframe thead th {\n",
       "        text-align: right;\n",
       "    }\n",
       "</style>\n",
       "<table border=\"1\" class=\"dataframe\">\n",
       "  <thead>\n",
       "    <tr style=\"text-align: right;\">\n",
       "      <th></th>\n",
       "      <th>ANO_BO</th>\n",
       "      <th>NUM_BO</th>\n",
       "      <th>BO_INICIADO</th>\n",
       "      <th>BO_EMITIDO</th>\n",
       "      <th>DATAOCORRENCIA</th>\n",
       "      <th>HORAOCORRENCIA</th>\n",
       "      <th>PERIDOOCORRENCIA</th>\n",
       "      <th>DATACOMUNICACAO</th>\n",
       "      <th>DATAELABORACAO</th>\n",
       "      <th>BO_AUTORIA</th>\n",
       "      <th>...</th>\n",
       "      <th>SOLUCAO</th>\n",
       "      <th>DELEGACIA_NOME</th>\n",
       "      <th>DELEGACIA_CIRCUNSCRICAO</th>\n",
       "      <th>ESPECIE</th>\n",
       "      <th>RUBRICA</th>\n",
       "      <th>DESDOBRAMENTO</th>\n",
       "      <th>STATUS</th>\n",
       "      <th>DESCR_TIPO_VEICULO</th>\n",
       "      <th>QUANT_CELULAR</th>\n",
       "      <th>MARCA_CELULAR</th>\n",
       "    </tr>\n",
       "  </thead>\n",
       "  <tbody>\n",
       "    <tr>\n",
       "      <th>0</th>\n",
       "      <td>2020</td>\n",
       "      <td>1069122</td>\n",
       "      <td>01/08/2020 00:09:32</td>\n",
       "      <td>01/08/2020 00:07:52</td>\n",
       "      <td>28/07/2020</td>\n",
       "      <td>11:45</td>\n",
       "      <td>PELA MANHÃ</td>\n",
       "      <td>31/07/2020</td>\n",
       "      <td>01/08/2020 00:09:32</td>\n",
       "      <td>Desconhecida</td>\n",
       "      <td>...</td>\n",
       "      <td>BO PARA REGISTRO</td>\n",
       "      <td>DELEGACIA ELETRONICA</td>\n",
       "      <td>62º D.P. ERMELINO MATARAZZO</td>\n",
       "      <td>Título II - Patrimônio (arts. 155 a 183)</td>\n",
       "      <td>Roubo (art. 157) - OUTROS</td>\n",
       "      <td>NaN</td>\n",
       "      <td>Consumado</td>\n",
       "      <td>NaN</td>\n",
       "      <td>&lt;NA&gt;</td>\n",
       "      <td>LG</td>\n",
       "    </tr>\n",
       "    <tr>\n",
       "      <th>1</th>\n",
       "      <td>2020</td>\n",
       "      <td>1069823</td>\n",
       "      <td>31/07/2020 23:25:40</td>\n",
       "      <td>01/08/2020 00:10:55</td>\n",
       "      <td>31/07/2020</td>\n",
       "      <td>12:53</td>\n",
       "      <td>A TARDE</td>\n",
       "      <td>31/07/2020</td>\n",
       "      <td>31/07/2020 23:25:40</td>\n",
       "      <td>Desconhecida</td>\n",
       "      <td>...</td>\n",
       "      <td>ENCAMINHAMENTO DP ÁREA DO FATO</td>\n",
       "      <td>DELEGACIA ELETRONICA</td>\n",
       "      <td>05º D.P. ACLIMACAO</td>\n",
       "      <td>Título II - Patrimônio (arts. 155 a 183)</td>\n",
       "      <td>Roubo (art. 157) - TRANSEUNTE</td>\n",
       "      <td>NaN</td>\n",
       "      <td>Consumado</td>\n",
       "      <td>NaN</td>\n",
       "      <td>&lt;NA&gt;</td>\n",
       "      <td>APPLE</td>\n",
       "    </tr>\n",
       "    <tr>\n",
       "      <th>2</th>\n",
       "      <td>2020</td>\n",
       "      <td>1069786</td>\n",
       "      <td>31/07/2020 23:12:57</td>\n",
       "      <td>01/08/2020 00:16:51</td>\n",
       "      <td>31/07/2020</td>\n",
       "      <td>16:55</td>\n",
       "      <td>A TARDE</td>\n",
       "      <td>31/07/2020</td>\n",
       "      <td>31/07/2020 23:12:57</td>\n",
       "      <td>Desconhecida</td>\n",
       "      <td>...</td>\n",
       "      <td>ENCAMINHAMENTO DP ÁREA DO FATO</td>\n",
       "      <td>DELEGACIA ELETRONICA</td>\n",
       "      <td>54º D.P. CID. TIRADENTES</td>\n",
       "      <td>Título II - Patrimônio (arts. 155 a 183)</td>\n",
       "      <td>Roubo (art. 157) - TRANSEUNTE</td>\n",
       "      <td>NaN</td>\n",
       "      <td>Consumado</td>\n",
       "      <td>NaN</td>\n",
       "      <td>&lt;NA&gt;</td>\n",
       "      <td>SAMSUNG</td>\n",
       "    </tr>\n",
       "    <tr>\n",
       "      <th>3</th>\n",
       "      <td>2020</td>\n",
       "      <td>1495</td>\n",
       "      <td>31/07/2020 21:34:49</td>\n",
       "      <td>01/08/2020 00:17:43</td>\n",
       "      <td>31/07/2020</td>\n",
       "      <td>21:00</td>\n",
       "      <td>A NOITE</td>\n",
       "      <td>31/07/2020</td>\n",
       "      <td>31/07/2020 21:34:49</td>\n",
       "      <td>Conhecida</td>\n",
       "      <td>...</td>\n",
       "      <td>BO PARA FLAGRANTE</td>\n",
       "      <td>DEL.SEC.JACAREI PLANTÃO</td>\n",
       "      <td>02º D.P. JACAREI</td>\n",
       "      <td>Ato infracional</td>\n",
       "      <td>A.I.-Roubo (art. 157) - VEICULO</td>\n",
       "      <td>NaN</td>\n",
       "      <td>Consumado</td>\n",
       "      <td>NaN</td>\n",
       "      <td>1</td>\n",
       "      <td>Motorola</td>\n",
       "    </tr>\n",
       "    <tr>\n",
       "      <th>4</th>\n",
       "      <td>2020</td>\n",
       "      <td>1495</td>\n",
       "      <td>31/07/2020 21:34:49</td>\n",
       "      <td>01/08/2020 00:17:43</td>\n",
       "      <td>31/07/2020</td>\n",
       "      <td>21:00</td>\n",
       "      <td>A NOITE</td>\n",
       "      <td>31/07/2020</td>\n",
       "      <td>31/07/2020 21:34:49</td>\n",
       "      <td>Conhecida</td>\n",
       "      <td>...</td>\n",
       "      <td>BO PARA FLAGRANTE</td>\n",
       "      <td>DEL.SEC.JACAREI PLANTÃO</td>\n",
       "      <td>02º D.P. JACAREI</td>\n",
       "      <td>Ato infracional</td>\n",
       "      <td>A.I.-Roubo (art. 157) - VEICULO</td>\n",
       "      <td>NaN</td>\n",
       "      <td>Consumado</td>\n",
       "      <td>NaN</td>\n",
       "      <td>1</td>\n",
       "      <td>SAMSUNG</td>\n",
       "    </tr>\n",
       "    <tr>\n",
       "      <th>...</th>\n",
       "      <td>...</td>\n",
       "      <td>...</td>\n",
       "      <td>...</td>\n",
       "      <td>...</td>\n",
       "      <td>...</td>\n",
       "      <td>...</td>\n",
       "      <td>...</td>\n",
       "      <td>...</td>\n",
       "      <td>...</td>\n",
       "      <td>...</td>\n",
       "      <td>...</td>\n",
       "      <td>...</td>\n",
       "      <td>...</td>\n",
       "      <td>...</td>\n",
       "      <td>...</td>\n",
       "      <td>...</td>\n",
       "      <td>...</td>\n",
       "      <td>...</td>\n",
       "      <td>...</td>\n",
       "      <td>...</td>\n",
       "      <td>...</td>\n",
       "    </tr>\n",
       "    <tr>\n",
       "      <th>13527</th>\n",
       "      <td>2020</td>\n",
       "      <td>5342</td>\n",
       "      <td>31/08/2020 23:36:15</td>\n",
       "      <td>31/08/2020 23:48:52</td>\n",
       "      <td>31/08/2020</td>\n",
       "      <td>22:00</td>\n",
       "      <td>A NOITE</td>\n",
       "      <td>31/08/2020</td>\n",
       "      <td>31/08/2020 23:36:15</td>\n",
       "      <td>Desconhecida</td>\n",
       "      <td>...</td>\n",
       "      <td>APRECIAÇÃO DO DELEGADO TITULAR</td>\n",
       "      <td>DEL.SEC.RIO CLARO PLANTÃO</td>\n",
       "      <td>03º D.P. RIO CLARO</td>\n",
       "      <td>Título II - Patrimônio (arts. 155 a 183)</td>\n",
       "      <td>Roubo (art. 157) - OUTROS</td>\n",
       "      <td>NaN</td>\n",
       "      <td>Consumado</td>\n",
       "      <td>NaN</td>\n",
       "      <td>1</td>\n",
       "      <td>MOTOROLA</td>\n",
       "    </tr>\n",
       "    <tr>\n",
       "      <th>13528</th>\n",
       "      <td>2020</td>\n",
       "      <td>4656</td>\n",
       "      <td>31/08/2020 23:31:17</td>\n",
       "      <td>31/08/2020 23:52:29</td>\n",
       "      <td>31/08/2020</td>\n",
       "      <td>19:10</td>\n",
       "      <td>A NOITE</td>\n",
       "      <td>31/08/2020</td>\n",
       "      <td>31/08/2020 23:31:17</td>\n",
       "      <td>Desconhecida</td>\n",
       "      <td>...</td>\n",
       "      <td>BO PARA INVESTIGAÇÃO</td>\n",
       "      <td>101º D.P. JDIM IMBUIAS</td>\n",
       "      <td>101º D.P. JDIM IMBUIAS</td>\n",
       "      <td>Título II - Patrimônio (arts. 155 a 183)</td>\n",
       "      <td>Roubo (art. 157) - TRANSEUNTE</td>\n",
       "      <td>NaN</td>\n",
       "      <td>Consumado</td>\n",
       "      <td>NaN</td>\n",
       "      <td>1</td>\n",
       "      <td>Samsung</td>\n",
       "    </tr>\n",
       "    <tr>\n",
       "      <th>13529</th>\n",
       "      <td>2020</td>\n",
       "      <td>1255538</td>\n",
       "      <td>31/08/2020 21:10:54</td>\n",
       "      <td>31/08/2020 23:55:22</td>\n",
       "      <td>31/08/2020</td>\n",
       "      <td>15:00</td>\n",
       "      <td>A TARDE</td>\n",
       "      <td>31/08/2020</td>\n",
       "      <td>31/08/2020 21:10:54</td>\n",
       "      <td>Desconhecida</td>\n",
       "      <td>...</td>\n",
       "      <td>BO PARA REGISTRO</td>\n",
       "      <td>DELEGACIA ELETRONICA</td>\n",
       "      <td>03º D.P. CUBATÃO</td>\n",
       "      <td>Título II - Patrimônio (arts. 155 a 183)</td>\n",
       "      <td>Roubo (art. 157) - ESTABELECIMENTO-OUTROS</td>\n",
       "      <td>NaN</td>\n",
       "      <td>Consumado</td>\n",
       "      <td>NaN</td>\n",
       "      <td>1</td>\n",
       "      <td>MOTOROLA</td>\n",
       "    </tr>\n",
       "    <tr>\n",
       "      <th>13530</th>\n",
       "      <td>2020</td>\n",
       "      <td>1255308</td>\n",
       "      <td>31/08/2020 23:57:57</td>\n",
       "      <td>31/08/2020 23:57:52</td>\n",
       "      <td>31/08/2020</td>\n",
       "      <td>19:30</td>\n",
       "      <td>A NOITE</td>\n",
       "      <td>31/08/2020</td>\n",
       "      <td>31/08/2020 23:57:57</td>\n",
       "      <td>Desconhecida</td>\n",
       "      <td>...</td>\n",
       "      <td>BO PARA REGISTRO</td>\n",
       "      <td>DELEGACIA ELETRONICA</td>\n",
       "      <td>77º D.P. SANTA CECILIA</td>\n",
       "      <td>Título II - Patrimônio (arts. 155 a 183)</td>\n",
       "      <td>Roubo (art. 157) - OUTROS</td>\n",
       "      <td>NaN</td>\n",
       "      <td>Consumado</td>\n",
       "      <td>NaN</td>\n",
       "      <td>&lt;NA&gt;</td>\n",
       "      <td>XIAOMI</td>\n",
       "    </tr>\n",
       "    <tr>\n",
       "      <th>13531</th>\n",
       "      <td>2020</td>\n",
       "      <td>1255568</td>\n",
       "      <td>31/08/2020 23:58:22</td>\n",
       "      <td>31/08/2020 23:58:22</td>\n",
       "      <td>27/08/2020</td>\n",
       "      <td>07:10</td>\n",
       "      <td>PELA MANHÃ</td>\n",
       "      <td>31/08/2020</td>\n",
       "      <td>31/08/2020 23:58:22</td>\n",
       "      <td>Desconhecida</td>\n",
       "      <td>...</td>\n",
       "      <td>BO PARA REGISTRO</td>\n",
       "      <td>DELEGACIA ELETRONICA</td>\n",
       "      <td>96º D.P. MONÇÕES</td>\n",
       "      <td>Título II - Patrimônio (arts. 155 a 183)</td>\n",
       "      <td>Roubo (art. 157) - OUTROS</td>\n",
       "      <td>NaN</td>\n",
       "      <td>Consumado</td>\n",
       "      <td>NaN</td>\n",
       "      <td>&lt;NA&gt;</td>\n",
       "      <td>XIAOMI</td>\n",
       "    </tr>\n",
       "  </tbody>\n",
       "</table>\n",
       "<p>13532 rows × 29 columns</p>\n",
       "</div>"
      ],
      "text/plain": [
       "       ANO_BO   NUM_BO          BO_INICIADO           BO_EMITIDO  \\\n",
       "0        2020  1069122  01/08/2020 00:09:32  01/08/2020 00:07:52   \n",
       "1        2020  1069823  31/07/2020 23:25:40  01/08/2020 00:10:55   \n",
       "2        2020  1069786  31/07/2020 23:12:57  01/08/2020 00:16:51   \n",
       "3        2020     1495  31/07/2020 21:34:49  01/08/2020 00:17:43   \n",
       "4        2020     1495  31/07/2020 21:34:49  01/08/2020 00:17:43   \n",
       "...       ...      ...                  ...                  ...   \n",
       "13527    2020     5342  31/08/2020 23:36:15  31/08/2020 23:48:52   \n",
       "13528    2020     4656  31/08/2020 23:31:17  31/08/2020 23:52:29   \n",
       "13529    2020  1255538  31/08/2020 21:10:54  31/08/2020 23:55:22   \n",
       "13530    2020  1255308  31/08/2020 23:57:57  31/08/2020 23:57:52   \n",
       "13531    2020  1255568  31/08/2020 23:58:22  31/08/2020 23:58:22   \n",
       "\n",
       "      DATAOCORRENCIA HORAOCORRENCIA PERIDOOCORRENCIA DATACOMUNICACAO  \\\n",
       "0         28/07/2020          11:45       PELA MANHÃ      31/07/2020   \n",
       "1         31/07/2020          12:53          A TARDE      31/07/2020   \n",
       "2         31/07/2020          16:55          A TARDE      31/07/2020   \n",
       "3         31/07/2020          21:00          A NOITE      31/07/2020   \n",
       "4         31/07/2020          21:00          A NOITE      31/07/2020   \n",
       "...              ...            ...              ...             ...   \n",
       "13527     31/08/2020          22:00          A NOITE      31/08/2020   \n",
       "13528     31/08/2020          19:10          A NOITE      31/08/2020   \n",
       "13529     31/08/2020          15:00          A TARDE      31/08/2020   \n",
       "13530     31/08/2020          19:30          A NOITE      31/08/2020   \n",
       "13531     27/08/2020          07:10       PELA MANHÃ      31/08/2020   \n",
       "\n",
       "            DATAELABORACAO    BO_AUTORIA  ...                         SOLUCAO  \\\n",
       "0      01/08/2020 00:09:32  Desconhecida  ...                BO PARA REGISTRO   \n",
       "1      31/07/2020 23:25:40  Desconhecida  ...  ENCAMINHAMENTO DP ÁREA DO FATO   \n",
       "2      31/07/2020 23:12:57  Desconhecida  ...  ENCAMINHAMENTO DP ÁREA DO FATO   \n",
       "3      31/07/2020 21:34:49     Conhecida  ...               BO PARA FLAGRANTE   \n",
       "4      31/07/2020 21:34:49     Conhecida  ...               BO PARA FLAGRANTE   \n",
       "...                    ...           ...  ...                             ...   \n",
       "13527  31/08/2020 23:36:15  Desconhecida  ...  APRECIAÇÃO DO DELEGADO TITULAR   \n",
       "13528  31/08/2020 23:31:17  Desconhecida  ...            BO PARA INVESTIGAÇÃO   \n",
       "13529  31/08/2020 21:10:54  Desconhecida  ...                BO PARA REGISTRO   \n",
       "13530  31/08/2020 23:57:57  Desconhecida  ...                BO PARA REGISTRO   \n",
       "13531  31/08/2020 23:58:22  Desconhecida  ...                BO PARA REGISTRO   \n",
       "\n",
       "                  DELEGACIA_NOME      DELEGACIA_CIRCUNSCRICAO  \\\n",
       "0           DELEGACIA ELETRONICA  62º D.P. ERMELINO MATARAZZO   \n",
       "1           DELEGACIA ELETRONICA           05º D.P. ACLIMACAO   \n",
       "2           DELEGACIA ELETRONICA     54º D.P. CID. TIRADENTES   \n",
       "3        DEL.SEC.JACAREI PLANTÃO             02º D.P. JACAREI   \n",
       "4        DEL.SEC.JACAREI PLANTÃO             02º D.P. JACAREI   \n",
       "...                          ...                          ...   \n",
       "13527  DEL.SEC.RIO CLARO PLANTÃO           03º D.P. RIO CLARO   \n",
       "13528     101º D.P. JDIM IMBUIAS       101º D.P. JDIM IMBUIAS   \n",
       "13529       DELEGACIA ELETRONICA             03º D.P. CUBATÃO   \n",
       "13530       DELEGACIA ELETRONICA       77º D.P. SANTA CECILIA   \n",
       "13531       DELEGACIA ELETRONICA             96º D.P. MONÇÕES   \n",
       "\n",
       "                                        ESPECIE  \\\n",
       "0      Título II - Patrimônio (arts. 155 a 183)   \n",
       "1      Título II - Patrimônio (arts. 155 a 183)   \n",
       "2      Título II - Patrimônio (arts. 155 a 183)   \n",
       "3                               Ato infracional   \n",
       "4                               Ato infracional   \n",
       "...                                         ...   \n",
       "13527  Título II - Patrimônio (arts. 155 a 183)   \n",
       "13528  Título II - Patrimônio (arts. 155 a 183)   \n",
       "13529  Título II - Patrimônio (arts. 155 a 183)   \n",
       "13530  Título II - Patrimônio (arts. 155 a 183)   \n",
       "13531  Título II - Patrimônio (arts. 155 a 183)   \n",
       "\n",
       "                                         RUBRICA DESDOBRAMENTO     STATUS  \\\n",
       "0                      Roubo (art. 157) - OUTROS           NaN  Consumado   \n",
       "1                  Roubo (art. 157) - TRANSEUNTE           NaN  Consumado   \n",
       "2                  Roubo (art. 157) - TRANSEUNTE           NaN  Consumado   \n",
       "3                A.I.-Roubo (art. 157) - VEICULO           NaN  Consumado   \n",
       "4                A.I.-Roubo (art. 157) - VEICULO           NaN  Consumado   \n",
       "...                                          ...           ...        ...   \n",
       "13527                  Roubo (art. 157) - OUTROS           NaN  Consumado   \n",
       "13528              Roubo (art. 157) - TRANSEUNTE           NaN  Consumado   \n",
       "13529  Roubo (art. 157) - ESTABELECIMENTO-OUTROS           NaN  Consumado   \n",
       "13530                  Roubo (art. 157) - OUTROS           NaN  Consumado   \n",
       "13531                  Roubo (art. 157) - OUTROS           NaN  Consumado   \n",
       "\n",
       "       DESCR_TIPO_VEICULO QUANT_CELULAR MARCA_CELULAR  \n",
       "0                     NaN          <NA>            LG  \n",
       "1                     NaN          <NA>         APPLE  \n",
       "2                     NaN          <NA>       SAMSUNG  \n",
       "3                     NaN             1      Motorola  \n",
       "4                     NaN             1       SAMSUNG  \n",
       "...                   ...           ...           ...  \n",
       "13527                 NaN             1      MOTOROLA  \n",
       "13528                 NaN             1       Samsung  \n",
       "13529                 NaN             1      MOTOROLA  \n",
       "13530                 NaN          <NA>        XIAOMI  \n",
       "13531                 NaN          <NA>        XIAOMI  \n",
       "\n",
       "[13532 rows x 29 columns]"
      ]
     },
     "execution_count": 31,
     "metadata": {},
     "output_type": "execute_result"
    }
   ],
   "source": [
    "dataset"
   ]
  },
  {
   "cell_type": "markdown",
   "metadata": {},
   "source": [
    "#### Antes da eliminação das duplicatas"
   ]
  },
  {
   "cell_type": "code",
   "execution_count": 9,
   "metadata": {},
   "outputs": [
    {
     "name": "stdout",
     "output_type": "stream",
     "text": [
      "Quantidade de tuplas:  13532\n"
     ]
    }
   ],
   "source": [
    "before_drop = dataset.shape[0]\n",
    "print(\"Quantidade de tuplas: \",dataset.shape[0])"
   ]
  },
  {
   "cell_type": "markdown",
   "metadata": {},
   "source": [
    "#### Eliminando duplicatas de acordo com [Metodologia](https://drive.google.com/file/d/1_CBHVulHPzLzRyCNpxGXSECVDV-u21QH/view)"
   ]
  },
  {
   "cell_type": "code",
   "execution_count": 10,
   "metadata": {},
   "outputs": [],
   "source": [
    "dataset.drop_duplicates(subset=['DELEGACIA_NOME', 'ANO_BO', 'NUM_BO'], inplace=True)"
   ]
  },
  {
   "cell_type": "code",
   "execution_count": 32,
   "metadata": {},
   "outputs": [],
   "source": [
    "dataset['HORARIOOCORRENCIA'] = pd.to_datetime(dataset.DATAOCORRENCIA + ' ' + dataset.HORAOCORRENCIA)"
   ]
  },
  {
   "cell_type": "markdown",
   "metadata": {},
   "source": [
    "#### Após remoção das duplicatas"
   ]
  },
  {
   "cell_type": "code",
   "execution_count": 12,
   "metadata": {},
   "outputs": [
    {
     "name": "stdout",
     "output_type": "stream",
     "text": [
      "Quantidade de tuplas:  11071\n"
     ]
    }
   ],
   "source": [
    "after_drop = dataset.shape[0]\n",
    "print(\"Quantidade de tuplas: \",dataset.shape[0])"
   ]
  },
  {
   "cell_type": "markdown",
   "metadata": {},
   "source": [
    "#### Percentual de redução no dataset:"
   ]
  },
  {
   "cell_type": "code",
   "execution_count": null,
   "metadata": {},
   "outputs": [],
   "source": [
    "print(\"Redução de: \", 100-(after_drop/before_drop)*100)"
   ]
  },
  {
   "cell_type": "markdown",
   "metadata": {},
   "source": [
    "#### Maioria das ocorrências não são flagrante"
   ]
  },
  {
   "cell_type": "code",
   "execution_count": null,
   "metadata": {},
   "outputs": [],
   "source": [
    "print('Quantidade de ocorrências que é flagrante: ',dataset[dataset[\"FLAGRANTE\"]==\"Sim\"].shape[0])"
   ]
  },
  {
   "cell_type": "code",
   "execution_count": null,
   "metadata": {},
   "outputs": [],
   "source": [
    "dataset.dtypes"
   ]
  },
  {
   "cell_type": "markdown",
   "metadata": {},
   "source": [
    "#### Converter coluna com horario da ocorrencia para segundos"
   ]
  },
  {
   "cell_type": "code",
   "execution_count": null,
   "metadata": {},
   "outputs": [],
   "source": [
    "dataset['timestamp_ocorrencia'] = dataset['HORARIOOCORRENCIA'].dt.hour*3600 + dataset['HORARIOOCORRENCIA'].dt.minute*60 + dataset['HORARIOOCORRENCIA'].dt.second"
   ]
  },
  {
   "cell_type": "markdown",
   "metadata": {},
   "source": [
    "#### Horário médio de ocorrência de crimes por turno(manhã, tarde, noite, madrugada)"
   ]
  },
  {
   "cell_type": "code",
   "execution_count": null,
   "metadata": {},
   "outputs": [],
   "source": [
    "import datetime\n",
    "manha = dataset[dataset['PERIDOOCORRENCIA']==\"PELA MANHÃ\"]['timestamp_ocorrencia'].mean()\n",
    "str(datetime.timedelta(seconds=manha))"
   ]
  },
  {
   "cell_type": "code",
   "execution_count": null,
   "metadata": {},
   "outputs": [],
   "source": [
    "tarde = dataset[dataset['PERIDOOCORRENCIA']==\"A TARDE\"]['timestamp_ocorrencia'].mean()\n",
    "str(datetime.timedelta(seconds=tarde))"
   ]
  },
  {
   "cell_type": "code",
   "execution_count": null,
   "metadata": {},
   "outputs": [],
   "source": [
    "noite = dataset[dataset['PERIDOOCORRENCIA']==\"A NOITE\"]['timestamp_ocorrencia'].mean()\n",
    "str(datetime.timedelta(seconds=noite))"
   ]
  },
  {
   "cell_type": "code",
   "execution_count": null,
   "metadata": {},
   "outputs": [],
   "source": [
    "madrugada = dataset[dataset['PERIDOOCORRENCIA']==\"DE MADRUGADA\"]['timestamp_ocorrencia'].mean()\n",
    "str(datetime.timedelta(seconds=madrugada))"
   ]
  },
  {
   "cell_type": "code",
   "execution_count": null,
   "metadata": {},
   "outputs": [],
   "source": [
    "len(dataset['timestamp_ocorrencia'].unique())"
   ]
  },
  {
   "cell_type": "markdown",
   "metadata": {},
   "source": [
    "#### Top 5 horários com maior incidência de crimes por turno"
   ]
  },
  {
   "cell_type": "code",
   "execution_count": null,
   "metadata": {},
   "outputs": [],
   "source": [
    "dataset[dataset['PERIDOOCORRENCIA']==\"A NOITE\"].nlargest(5, \"timestamp_ocorrencia\")"
   ]
  },
  {
   "cell_type": "markdown",
   "metadata": {},
   "source": [
    "#### Média de dias para comunicar a policia sobre o roubo"
   ]
  },
  {
   "cell_type": "code",
   "execution_count": 17,
   "metadata": {},
   "outputs": [],
   "source": [
    "dataset['DATAOCORRENCIA'] = dataset['DATAOCORRENCIA'].astype('datetime64')\n",
    "dataset['DATACOMUNICACAO'] = dataset['DATACOMUNICACAO'].astype('datetime64')"
   ]
  },
  {
   "cell_type": "code",
   "execution_count": null,
   "metadata": {},
   "outputs": [],
   "source": [
    "dias = (dataset['DATACOMUNICACAO'] - dataset['DATAOCORRENCIA'])/ np.timedelta64(1, 'D')"
   ]
  },
  {
   "cell_type": "code",
   "execution_count": null,
   "metadata": {},
   "outputs": [],
   "source": [
    "dataset.head(15)"
   ]
  },
  {
   "cell_type": "code",
   "execution_count": null,
   "metadata": {},
   "outputs": [],
   "source": [
    "dias.mean()"
   ]
  },
  {
   "cell_type": "code",
   "execution_count": null,
   "metadata": {},
   "outputs": [],
   "source": [
    "dias.nlargest(1)"
   ]
  },
  {
   "cell_type": "markdown",
   "metadata": {},
   "source": [
    "### Análise gráfica dos dados"
   ]
  },
  {
   "cell_type": "markdown",
   "metadata": {},
   "source": [
    "#### Capturando nome das colunas importantes no dataset"
   ]
  },
  {
   "cell_type": "code",
   "execution_count": null,
   "metadata": {},
   "outputs": [],
   "source": [
    "string_gerada=\"\"\n",
    "for item in dataset.columns:\n",
    "    string_gerada += \"'\"+item+\"'\"+\", \"\n",
    "string_gerada"
   ]
  },
  {
   "cell_type": "code",
   "execution_count": null,
   "metadata": {},
   "outputs": [],
   "source": [
    "drop_c = ['ANO_BO', 'NUM_BO', 'BO_INICIADO', 'BO_EMITIDO', 'DATAOCORRENCIA', 'HORAOCORRENCIA', 'PERIDOOCORRENCIA', 'DATACOMUNICACAO', 'DATAELABORACAO', 'BO_AUTORIA', 'FLAGRANTE', 'LOGRADOURO', 'NUMERO', 'BAIRRO', 'CIDADE', 'UF', 'LATITUDE', 'LONGITUDE', 'DESCRICAOLOCAL', 'SOLUCAO', 'DELEGACIA_NOME', 'DELEGACIA_CIRCUNSCRICAO', 'ESPECIE', 'RUBRICA', 'DESDOBRAMENTO', 'STATUS', 'QUANT_CELULAR', 'MARCA_CELULAR']"
   ]
  },
  {
   "cell_type": "code",
   "execution_count": null,
   "metadata": {},
   "outputs": [],
   "source": [
    "string_gerada=[]\n",
    "for item in dataset.columns:\n",
    "    string_gerada.append(item)\n",
    "string_gerada"
   ]
  },
  {
   "cell_type": "code",
   "execution_count": null,
   "metadata": {},
   "outputs": [],
   "source": [
    "columns = ['NUMERO_BOLETIM', 'NUMERO_BOLETIM_PRINCIPAL', 'EXAME', 'NOMEPESSOA', 'TIPOPESSOA', 'VITIMAFATAL', 'RG', 'RG_UF', 'NATURALIDADE', 'NACIONALIDADE', 'SEXO', 'DATANASCIMENTO', 'IDADE', 'ESTADOCIVIL', 'PROFISSAO', 'GRAUINSTRUCAO', 'CORCUTIS', 'NATUREZAVINCULADA', 'TIPOVINCULO', 'RELACIONAMENTO', 'PARENTESCO', 'PLACA_VEICULO', 'UF_VEICULO', 'CIDADE_VEICULO', 'DESCR_COR_VEICULO', 'DESCR_MARCA_VEICULO', 'ANO_FABRICACAO', 'ANO_MODELO', 'DESCR_TIPO_VEICULO']"
   ]
  },
  {
   "cell_type": "markdown",
   "metadata": {},
   "source": [
    "https://pandas.pydata.org/pandas-docs/stable/reference/api/pandas.read_excel.html\n"
   ]
  }
 ],
 "metadata": {
  "kernelspec": {
   "display_name": "Python 3",
   "language": "python",
   "name": "python3"
  },
  "language_info": {
   "codemirror_mode": {
    "name": "ipython",
    "version": 3
   },
   "file_extension": ".py",
   "mimetype": "text/x-python",
   "name": "python",
   "nbconvert_exporter": "python",
   "pygments_lexer": "ipython3",
   "version": "3.7.9"
  }
 },
 "nbformat": 4,
 "nbformat_minor": 4
}
