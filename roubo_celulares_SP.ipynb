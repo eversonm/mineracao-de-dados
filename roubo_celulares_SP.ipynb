{
 "cells": [
  {
   "cell_type": "markdown",
   "metadata": {},
   "source": [
    "# Prevendo roubo de celulares em SP"
   ]
  },
  {
   "cell_type": "markdown",
   "metadata": {},
   "source": [
    "## Baixando biblioteca necessária\n",
    "`pip install xlwt`\n",
    "\n",
    "`conda install xlwt`"
   ]
  },
  {
   "cell_type": "markdown",
   "metadata": {},
   "source": [
    "## Importando bibliotecas Pandas e Numpy"
   ]
  },
  {
   "cell_type": "code",
   "execution_count": 1,
   "metadata": {},
   "outputs": [],
   "source": [
    "import pandas as pd\n",
    "import numpy as np"
   ]
  },
  {
   "cell_type": "markdown",
   "metadata": {},
   "source": [
    "## Abrindo arquivo XLS disponível no SSP-SP"
   ]
  },
  {
   "cell_type": "markdown",
   "metadata": {},
   "source": [
    "### Os arquivos possuem um erro, sendo impossível abrir o arquivo\n",
    "*XLRDError: Unsupported format, or corrupt file: Expected BOF record; found b'A\\x00N\\x00O\\x00_\\x00'*\n",
    "\n",
    "A solução foi encontrada nesse artigo do [Medium](https://medium.com/@jerilkuriakose/recover-corrupt-excel-file-xls-or-xlsx-using-python-2eea6bb07aae)"
   ]
  },
  {
   "cell_type": "markdown",
   "metadata": {},
   "source": [
    "#### Apenas para resolver o problema de formato\n",
    "Você pode até salvar o arquivo como .csv, mas a leitura pode informar algum erro"
   ]
  },
  {
   "cell_type": "code",
   "execution_count": null,
   "metadata": {},
   "outputs": [],
   "source": [
    "from __future__ import unicode_literals\n",
    "# Used to save the file as excel workbook\n",
    "# Need to install this library\n",
    "from xlwt import Workbook\n",
    "# Used to open to corrupt excel file\n",
    "import io\n",
    "\n",
    "filename = 'datasets/DadosBO_2020_8.xls'\n",
    "# Opening the file using 'utf-16' encoding\n",
    "file = io.open(filename, \"r\", encoding=\"utf-16-le\")\n",
    "data = file.readlines()\n",
    "\n",
    "# Creating a workbook object\n",
    "xldoc = Workbook()\n",
    "# Adding a sheet to the workbook object\n",
    "sheet = xldoc.add_sheet(\"Sheet1\", cell_overwrite_ok=True)\n",
    "# Iterating and saving the data to sheet\n",
    "for i, row in enumerate(data):\n",
    "    # Two things are done here\n",
    "    # Removeing the '\\n' which comes while reading the file using io.open\n",
    "    # Getting the values after splitting using '\\t'\n",
    "    for j, val in enumerate(row.replace('\\n', '').split('\\t')):\n",
    "        sheet.write(i, j, val)\n",
    "    \n",
    "# Saving the file as an excel file\n",
    "xldoc.save('datasets/file.xls')"
   ]
  },
  {
   "cell_type": "markdown",
   "metadata": {},
   "source": [
    "#### Converter xls para csv"
   ]
  },
  {
   "cell_type": "code",
   "execution_count": null,
   "metadata": {
    "scrolled": true
   },
   "outputs": [],
   "source": [
    "import xlrd\n",
    "import csv\n",
    "\n",
    "def xls_to_csv():\n",
    "    wb = xlrd.open_workbook('datasets/file.xls')\n",
    "    sh = wb.sheet_by_name('Sheet1')\n",
    "    with open('dataset.csv', 'w') as f:\n",
    "        wr = csv.writer(f, quoting=csv.QUOTE_ALL)\n",
    "\n",
    "        for rownum in range(sh.nrows):\n",
    "            wr.writerow(sh.row_values(rownum))\n",
    "#https://stackoverflow.com/questions/9884353/xls-to-csv-converter\n",
    "xls_to_csv()"
   ]
  },
  {
   "cell_type": "markdown",
   "metadata": {},
   "source": [
    "## Carregando o dataset"
   ]
  },
  {
   "cell_type": "code",
   "execution_count": 2,
   "metadata": {
    "scrolled": true
   },
   "outputs": [],
   "source": [
    "#dataset = pd.read_excel(\"DadosBO_2020_7.xls\", engine='xlrd')\n",
    "from datetime import datetime\n",
    "dateparse = lambda x: datetime.strptime(x, '%d/%m/%Y')\n",
    "\n",
    "columns = ['ANO_BO', 'NUM_BO', 'DATAOCORRENCIA', 'HORAOCORRENCIA', 'PERIDOOCORRENCIA', 'DATACOMUNICACAO', 'BO_AUTORIA', 'FLAGRANTE', 'LOGRADOURO', 'NUMERO', 'BAIRRO', 'CIDADE', 'UF', 'LATITUDE', 'LONGITUDE', 'DESCRICAOLOCAL', 'DESCR_TIPO_VEICULO', 'SOLUCAO', 'DELEGACIA_NOME', 'DELEGACIA_CIRCUNSCRICAO', 'ESPECIE', 'RUBRICA', 'DESDOBRAMENTO', 'STATUS', 'QUANT_CELULAR', 'MARCA_CELULAR']\n",
    "\n",
    "#column_dates = ['DATAOCORRENCIA', 'DATACOMUNICACAO']\n",
    "column_dates = ['DATACOMUNICACAO']\n",
    "\n",
    "dtypes = {\n",
    "    'ANO_BO': np.int32,\n",
    "    'NUM_BO': np.int64,\n",
    "    'QUANT_CELULAR': pd.Int16Dtype(),\n",
    "    'LATITUDE': np.float32,\n",
    "    'LONGITUDE': np.float32 \n",
    "}\n",
    "\n",
    "dataset = pd.read_excel(\"datasets/file.xls\", usecols=columns, dtype=dtypes, parse_dates=column_dates, date_parser=dateparse, thousands=',')"
   ]
  },
  {
   "cell_type": "code",
   "execution_count": null,
   "metadata": {},
   "outputs": [],
   "source": [
    "dataset"
   ]
  },
  {
   "cell_type": "markdown",
   "metadata": {},
   "source": [
    "#### Antes da eliminação das duplicatas"
   ]
  },
  {
   "cell_type": "code",
   "execution_count": 3,
   "metadata": {},
   "outputs": [
    {
     "name": "stdout",
     "output_type": "stream",
     "text": [
      "Quantidade de tuplas:  13532\n"
     ]
    }
   ],
   "source": [
    "before_drop = dataset.shape[0]\n",
    "print(\"Quantidade de tuplas: \",dataset.shape[0])"
   ]
  },
  {
   "cell_type": "markdown",
   "metadata": {},
   "source": [
    "#### Eliminando duplicatas de acordo com [Metodologia](https://drive.google.com/file/d/1_CBHVulHPzLzRyCNpxGXSECVDV-u21QH/view)"
   ]
  },
  {
   "cell_type": "code",
   "execution_count": 4,
   "metadata": {},
   "outputs": [],
   "source": [
    "dataset.drop_duplicates(subset=['DELEGACIA_NOME', 'ANO_BO', 'NUM_BO'], inplace=True)\n",
    "dataset.reset_index(drop=True,inplace=True)"
   ]
  },
  {
   "cell_type": "code",
   "execution_count": 5,
   "metadata": {},
   "outputs": [],
   "source": [
    "dataset['HORARIOOCORRENCIA'] = pd.to_datetime(dataset.DATAOCORRENCIA + ' ' + dataset.HORAOCORRENCIA)"
   ]
  },
  {
   "cell_type": "code",
   "execution_count": 6,
   "metadata": {},
   "outputs": [],
   "source": [
    "dataset['DATAOCORRENCIA'] = pd.to_datetime(dataset['DATAOCORRENCIA'], format='%d/%m/%Y')"
   ]
  },
  {
   "cell_type": "markdown",
   "metadata": {},
   "source": [
    "#### Após remoção das duplicatas"
   ]
  },
  {
   "cell_type": "code",
   "execution_count": 7,
   "metadata": {},
   "outputs": [
    {
     "name": "stdout",
     "output_type": "stream",
     "text": [
      "Quantidade de tuplas:  11071\n"
     ]
    }
   ],
   "source": [
    "after_drop = dataset.shape[0]\n",
    "print(\"Quantidade de tuplas: \",dataset.shape[0])"
   ]
  },
  {
   "cell_type": "markdown",
   "metadata": {},
   "source": [
    "#### Percentual de redução no dataset:"
   ]
  },
  {
   "cell_type": "code",
   "execution_count": 8,
   "metadata": {},
   "outputs": [
    {
     "name": "stdout",
     "output_type": "stream",
     "text": [
      "Redução de:  18.18652083949158\n"
     ]
    }
   ],
   "source": [
    "print(\"Redução de: \", 100-(after_drop/before_drop)*100)"
   ]
  },
  {
   "cell_type": "markdown",
   "metadata": {},
   "source": [
    "#### Maioria das ocorrências não são flagrante"
   ]
  },
  {
   "cell_type": "code",
   "execution_count": 9,
   "metadata": {},
   "outputs": [
    {
     "name": "stdout",
     "output_type": "stream",
     "text": [
      "Quantidade de ocorrências que é flagrante:  115\n"
     ]
    }
   ],
   "source": [
    "print('Quantidade de ocorrências que é flagrante: ',dataset[dataset[\"FLAGRANTE\"]==\"Sim\"].shape[0])"
   ]
  },
  {
   "cell_type": "code",
   "execution_count": 10,
   "metadata": {},
   "outputs": [
    {
     "data": {
      "text/plain": [
       "ANO_BO                              int32\n",
       "NUM_BO                              int64\n",
       "DATAOCORRENCIA             datetime64[ns]\n",
       "HORAOCORRENCIA                     object\n",
       "PERIDOOCORRENCIA                   object\n",
       "DATACOMUNICACAO            datetime64[ns]\n",
       "BO_AUTORIA                         object\n",
       "FLAGRANTE                          object\n",
       "LOGRADOURO                         object\n",
       "NUMERO                            float64\n",
       "BAIRRO                             object\n",
       "CIDADE                             object\n",
       "UF                                 object\n",
       "LATITUDE                          float32\n",
       "LONGITUDE                         float32\n",
       "DESCRICAOLOCAL                     object\n",
       "SOLUCAO                            object\n",
       "DELEGACIA_NOME                     object\n",
       "DELEGACIA_CIRCUNSCRICAO            object\n",
       "ESPECIE                            object\n",
       "RUBRICA                            object\n",
       "DESDOBRAMENTO                      object\n",
       "STATUS                             object\n",
       "DESCR_TIPO_VEICULO                 object\n",
       "QUANT_CELULAR                       Int16\n",
       "MARCA_CELULAR                      object\n",
       "HORARIOOCORRENCIA          datetime64[ns]\n",
       "dtype: object"
      ]
     },
     "execution_count": 10,
     "metadata": {},
     "output_type": "execute_result"
    }
   ],
   "source": [
    "dataset.dtypes"
   ]
  },
  {
   "cell_type": "markdown",
   "metadata": {},
   "source": [
    "#### Converter coluna com horario da ocorrencia para segundos"
   ]
  },
  {
   "cell_type": "code",
   "execution_count": 11,
   "metadata": {},
   "outputs": [],
   "source": [
    "dataset['timestamp_ocorrencia'] = dataset['HORARIOOCORRENCIA'].dt.hour*3600 + dataset['HORARIOOCORRENCIA'].dt.minute*60 + dataset['HORARIOOCORRENCIA'].dt.second"
   ]
  },
  {
   "cell_type": "markdown",
   "metadata": {},
   "source": [
    "#### Horário médio de ocorrência de crimes por turno(manhã, tarde, noite, madrugada)"
   ]
  },
  {
   "cell_type": "code",
   "execution_count": 12,
   "metadata": {},
   "outputs": [
    {
     "data": {
      "text/plain": [
       "'8:35:17.313975'"
      ]
     },
     "execution_count": 12,
     "metadata": {},
     "output_type": "execute_result"
    }
   ],
   "source": [
    "import datetime\n",
    "manha = dataset[dataset['PERIDOOCORRENCIA']==\"PELA MANHÃ\"]['timestamp_ocorrencia'].mean()\n",
    "str(datetime.timedelta(seconds=manha))"
   ]
  },
  {
   "cell_type": "code",
   "execution_count": 13,
   "metadata": {},
   "outputs": [
    {
     "data": {
      "text/plain": [
       "'15:03:48.471616'"
      ]
     },
     "execution_count": 13,
     "metadata": {},
     "output_type": "execute_result"
    }
   ],
   "source": [
    "tarde = dataset[dataset['PERIDOOCORRENCIA']==\"A TARDE\"]['timestamp_ocorrencia'].mean()\n",
    "str(datetime.timedelta(seconds=tarde))"
   ]
  },
  {
   "cell_type": "code",
   "execution_count": 14,
   "metadata": {},
   "outputs": [
    {
     "data": {
      "text/plain": [
       "'20:38:43.968711'"
      ]
     },
     "execution_count": 14,
     "metadata": {},
     "output_type": "execute_result"
    }
   ],
   "source": [
    "noite = dataset[dataset['PERIDOOCORRENCIA']==\"A NOITE\"]['timestamp_ocorrencia'].mean()\n",
    "str(datetime.timedelta(seconds=noite))"
   ]
  },
  {
   "cell_type": "code",
   "execution_count": 15,
   "metadata": {},
   "outputs": [
    {
     "data": {
      "text/plain": [
       "'3:33:57.629630'"
      ]
     },
     "execution_count": 15,
     "metadata": {},
     "output_type": "execute_result"
    }
   ],
   "source": [
    "madrugada = dataset[dataset['PERIDOOCORRENCIA']==\"DE MADRUGADA\"]['timestamp_ocorrencia'].mean()\n",
    "str(datetime.timedelta(seconds=madrugada))"
   ]
  },
  {
   "cell_type": "code",
   "execution_count": 16,
   "metadata": {},
   "outputs": [
    {
     "data": {
      "text/plain": [
       "756"
      ]
     },
     "execution_count": 16,
     "metadata": {},
     "output_type": "execute_result"
    }
   ],
   "source": [
    "len(dataset['timestamp_ocorrencia'].unique())"
   ]
  },
  {
   "cell_type": "markdown",
   "metadata": {},
   "source": [
    "#### Top 5 horários com maior incidência de crimes por turno"
   ]
  },
  {
   "cell_type": "code",
   "execution_count": 17,
   "metadata": {},
   "outputs": [
    {
     "data": {
      "text/html": [
       "<div>\n",
       "<style scoped>\n",
       "    .dataframe tbody tr th:only-of-type {\n",
       "        vertical-align: middle;\n",
       "    }\n",
       "\n",
       "    .dataframe tbody tr th {\n",
       "        vertical-align: top;\n",
       "    }\n",
       "\n",
       "    .dataframe thead th {\n",
       "        text-align: right;\n",
       "    }\n",
       "</style>\n",
       "<table border=\"1\" class=\"dataframe\">\n",
       "  <thead>\n",
       "    <tr style=\"text-align: right;\">\n",
       "      <th></th>\n",
       "      <th>ANO_BO</th>\n",
       "      <th>NUM_BO</th>\n",
       "      <th>DATAOCORRENCIA</th>\n",
       "      <th>HORAOCORRENCIA</th>\n",
       "      <th>PERIDOOCORRENCIA</th>\n",
       "      <th>DATACOMUNICACAO</th>\n",
       "      <th>BO_AUTORIA</th>\n",
       "      <th>FLAGRANTE</th>\n",
       "      <th>LOGRADOURO</th>\n",
       "      <th>NUMERO</th>\n",
       "      <th>...</th>\n",
       "      <th>DELEGACIA_CIRCUNSCRICAO</th>\n",
       "      <th>ESPECIE</th>\n",
       "      <th>RUBRICA</th>\n",
       "      <th>DESDOBRAMENTO</th>\n",
       "      <th>STATUS</th>\n",
       "      <th>DESCR_TIPO_VEICULO</th>\n",
       "      <th>QUANT_CELULAR</th>\n",
       "      <th>MARCA_CELULAR</th>\n",
       "      <th>HORARIOOCORRENCIA</th>\n",
       "      <th>timestamp_ocorrencia</th>\n",
       "    </tr>\n",
       "  </thead>\n",
       "  <tbody>\n",
       "    <tr>\n",
       "      <th>10407</th>\n",
       "      <td>2020</td>\n",
       "      <td>1245501</td>\n",
       "      <td>2020-08-29</td>\n",
       "      <td>23:59</td>\n",
       "      <td>A NOITE</td>\n",
       "      <td>2020-08-30</td>\n",
       "      <td>Desconhecida</td>\n",
       "      <td>Não</td>\n",
       "      <td>RUA CONSELHEIRO BROTERO</td>\n",
       "      <td>77.0</td>\n",
       "      <td>...</td>\n",
       "      <td>77º D.P. SANTA CECILIA</td>\n",
       "      <td>Título II - Patrimônio (arts. 155 a 183)</td>\n",
       "      <td>Roubo (art. 157) - OUTROS</td>\n",
       "      <td>NaN</td>\n",
       "      <td>Consumado</td>\n",
       "      <td>NaN</td>\n",
       "      <td>&lt;NA&gt;</td>\n",
       "      <td>XIAOMI</td>\n",
       "      <td>2020-08-29 23:59:00</td>\n",
       "      <td>86340.0</td>\n",
       "    </tr>\n",
       "    <tr>\n",
       "      <th>5933</th>\n",
       "      <td>2020</td>\n",
       "      <td>1170326</td>\n",
       "      <td>2020-08-16</td>\n",
       "      <td>23:58</td>\n",
       "      <td>A NOITE</td>\n",
       "      <td>2020-08-17</td>\n",
       "      <td>Desconhecida</td>\n",
       "      <td>Não</td>\n",
       "      <td>RUA GLICERIO ALMEIDA MACIEL</td>\n",
       "      <td>454.0</td>\n",
       "      <td>...</td>\n",
       "      <td>80º D.P. VILA JOANIZA</td>\n",
       "      <td>Título II - Patrimônio (arts. 155 a 183)</td>\n",
       "      <td>Roubo (art. 157) - OUTROS</td>\n",
       "      <td>NaN</td>\n",
       "      <td>Consumado</td>\n",
       "      <td>NaN</td>\n",
       "      <td>&lt;NA&gt;</td>\n",
       "      <td>SAMSUNG</td>\n",
       "      <td>2020-08-16 23:58:00</td>\n",
       "      <td>86280.0</td>\n",
       "    </tr>\n",
       "    <tr>\n",
       "      <th>6187</th>\n",
       "      <td>2020</td>\n",
       "      <td>1174912</td>\n",
       "      <td>2020-08-16</td>\n",
       "      <td>23:58</td>\n",
       "      <td>A NOITE</td>\n",
       "      <td>2020-08-18</td>\n",
       "      <td>Desconhecida</td>\n",
       "      <td>Não</td>\n",
       "      <td>RUA GLICERIO ALMEIDA MACIEL</td>\n",
       "      <td>454.0</td>\n",
       "      <td>...</td>\n",
       "      <td>80º D.P. VILA JOANIZA</td>\n",
       "      <td>Título II - Patrimônio (arts. 155 a 183)</td>\n",
       "      <td>Roubo (art. 157) - OUTROS</td>\n",
       "      <td>NaN</td>\n",
       "      <td>Consumado</td>\n",
       "      <td>NaN</td>\n",
       "      <td>&lt;NA&gt;</td>\n",
       "      <td>SAMSUNG</td>\n",
       "      <td>2020-08-16 23:58:00</td>\n",
       "      <td>86280.0</td>\n",
       "    </tr>\n",
       "    <tr>\n",
       "      <th>7161</th>\n",
       "      <td>2020</td>\n",
       "      <td>1191237</td>\n",
       "      <td>2020-08-19</td>\n",
       "      <td>23:58</td>\n",
       "      <td>A NOITE</td>\n",
       "      <td>2020-08-20</td>\n",
       "      <td>Desconhecida</td>\n",
       "      <td>Não</td>\n",
       "      <td>RUA FLÓRIDA</td>\n",
       "      <td>114.0</td>\n",
       "      <td>...</td>\n",
       "      <td>01º D.P. EMBU DAS ARTES</td>\n",
       "      <td>Título II - Patrimônio (arts. 155 a 183)</td>\n",
       "      <td>Roubo (art. 157) - OUTROS</td>\n",
       "      <td>NaN</td>\n",
       "      <td>Consumado</td>\n",
       "      <td>NaN</td>\n",
       "      <td>&lt;NA&gt;</td>\n",
       "      <td>MOTOROLA</td>\n",
       "      <td>2020-08-19 23:58:00</td>\n",
       "      <td>86280.0</td>\n",
       "    </tr>\n",
       "    <tr>\n",
       "      <th>169</th>\n",
       "      <td>2020</td>\n",
       "      <td>1070915</td>\n",
       "      <td>2020-07-14</td>\n",
       "      <td>23:55</td>\n",
       "      <td>A NOITE</td>\n",
       "      <td>2020-08-01</td>\n",
       "      <td>Desconhecida</td>\n",
       "      <td>Não</td>\n",
       "      <td>RUA TAUBATE</td>\n",
       "      <td>1030.0</td>\n",
       "      <td>...</td>\n",
       "      <td>31º D.P. VILA CARRAO</td>\n",
       "      <td>Título II - Patrimônio (arts. 155 a 183)</td>\n",
       "      <td>Roubo (art. 157) - TRANSEUNTE</td>\n",
       "      <td>NaN</td>\n",
       "      <td>Consumado</td>\n",
       "      <td>NaN</td>\n",
       "      <td>&lt;NA&gt;</td>\n",
       "      <td>SAMSUNG</td>\n",
       "      <td>2020-07-14 23:55:00</td>\n",
       "      <td>86100.0</td>\n",
       "    </tr>\n",
       "  </tbody>\n",
       "</table>\n",
       "<p>5 rows × 28 columns</p>\n",
       "</div>"
      ],
      "text/plain": [
       "       ANO_BO   NUM_BO DATAOCORRENCIA HORAOCORRENCIA PERIDOOCORRENCIA  \\\n",
       "10407    2020  1245501     2020-08-29          23:59          A NOITE   \n",
       "5933     2020  1170326     2020-08-16          23:58          A NOITE   \n",
       "6187     2020  1174912     2020-08-16          23:58          A NOITE   \n",
       "7161     2020  1191237     2020-08-19          23:58          A NOITE   \n",
       "169      2020  1070915     2020-07-14          23:55          A NOITE   \n",
       "\n",
       "      DATACOMUNICACAO    BO_AUTORIA FLAGRANTE                   LOGRADOURO  \\\n",
       "10407      2020-08-30  Desconhecida       Não      RUA CONSELHEIRO BROTERO   \n",
       "5933       2020-08-17  Desconhecida       Não  RUA GLICERIO ALMEIDA MACIEL   \n",
       "6187       2020-08-18  Desconhecida       Não  RUA GLICERIO ALMEIDA MACIEL   \n",
       "7161       2020-08-20  Desconhecida       Não                  RUA FLÓRIDA   \n",
       "169        2020-08-01  Desconhecida       Não                  RUA TAUBATE   \n",
       "\n",
       "       NUMERO  ...  DELEGACIA_CIRCUNSCRICAO  \\\n",
       "10407    77.0  ...   77º D.P. SANTA CECILIA   \n",
       "5933    454.0  ...    80º D.P. VILA JOANIZA   \n",
       "6187    454.0  ...    80º D.P. VILA JOANIZA   \n",
       "7161    114.0  ...  01º D.P. EMBU DAS ARTES   \n",
       "169    1030.0  ...     31º D.P. VILA CARRAO   \n",
       "\n",
       "                                        ESPECIE  \\\n",
       "10407  Título II - Patrimônio (arts. 155 a 183)   \n",
       "5933   Título II - Patrimônio (arts. 155 a 183)   \n",
       "6187   Título II - Patrimônio (arts. 155 a 183)   \n",
       "7161   Título II - Patrimônio (arts. 155 a 183)   \n",
       "169    Título II - Patrimônio (arts. 155 a 183)   \n",
       "\n",
       "                             RUBRICA  DESDOBRAMENTO     STATUS  \\\n",
       "10407      Roubo (art. 157) - OUTROS            NaN  Consumado   \n",
       "5933       Roubo (art. 157) - OUTROS            NaN  Consumado   \n",
       "6187       Roubo (art. 157) - OUTROS            NaN  Consumado   \n",
       "7161       Roubo (art. 157) - OUTROS            NaN  Consumado   \n",
       "169    Roubo (art. 157) - TRANSEUNTE            NaN  Consumado   \n",
       "\n",
       "      DESCR_TIPO_VEICULO QUANT_CELULAR MARCA_CELULAR   HORARIOOCORRENCIA  \\\n",
       "10407                NaN          <NA>        XIAOMI 2020-08-29 23:59:00   \n",
       "5933                 NaN          <NA>       SAMSUNG 2020-08-16 23:58:00   \n",
       "6187                 NaN          <NA>       SAMSUNG 2020-08-16 23:58:00   \n",
       "7161                 NaN          <NA>      MOTOROLA 2020-08-19 23:58:00   \n",
       "169                  NaN          <NA>       SAMSUNG 2020-07-14 23:55:00   \n",
       "\n",
       "      timestamp_ocorrencia  \n",
       "10407              86340.0  \n",
       "5933               86280.0  \n",
       "6187               86280.0  \n",
       "7161               86280.0  \n",
       "169                86100.0  \n",
       "\n",
       "[5 rows x 28 columns]"
      ]
     },
     "execution_count": 17,
     "metadata": {},
     "output_type": "execute_result"
    }
   ],
   "source": [
    "dataset[dataset['PERIDOOCORRENCIA']==\"A NOITE\"].nlargest(5, \"timestamp_ocorrencia\")"
   ]
  },
  {
   "cell_type": "markdown",
   "metadata": {},
   "source": [
    "#### Média de dias para comunicar a policia sobre o roubo"
   ]
  },
  {
   "cell_type": "code",
   "execution_count": 18,
   "metadata": {},
   "outputs": [],
   "source": [
    "dataset['DATAOCORRENCIA'] = dataset['DATAOCORRENCIA'].astype('datetime64')\n",
    "dataset['DATACOMUNICACAO'] = dataset['DATACOMUNICACAO'].astype('datetime64')"
   ]
  },
  {
   "cell_type": "code",
   "execution_count": 19,
   "metadata": {},
   "outputs": [],
   "source": [
    "dias = (dataset['DATACOMUNICACAO'] - dataset['DATAOCORRENCIA'])/ np.timedelta64(1, 'D')"
   ]
  },
  {
   "cell_type": "code",
   "execution_count": 20,
   "metadata": {},
   "outputs": [],
   "source": [
    "somatorio = 0\n",
    "for item in dias:\n",
    "    if item < 180:\n",
    "        somatorio = somatorio + item"
   ]
  },
  {
   "cell_type": "code",
   "execution_count": 21,
   "metadata": {},
   "outputs": [
    {
     "name": "stdout",
     "output_type": "stream",
     "text": [
      "Em media uma vitima abre um BO em:  2.6479089513142444\n"
     ]
    }
   ],
   "source": [
    "somatorio = somatorio/len(dias)\n",
    "print(\"Em media uma vitima abre um BO em: \",somatorio)"
   ]
  },
  {
   "cell_type": "code",
   "execution_count": 22,
   "metadata": {},
   "outputs": [
    {
     "data": {
      "text/plain": [
       "9203    18264.0\n",
       "dtype: float64"
      ]
     },
     "execution_count": 22,
     "metadata": {},
     "output_type": "execute_result"
    }
   ],
   "source": [
    "dias.nlargest(1)"
   ]
  },
  {
   "cell_type": "markdown",
   "metadata": {},
   "source": [
    "### Análise gráfica dos dados"
   ]
  },
  {
   "cell_type": "markdown",
   "metadata": {},
   "source": [
    "#### Capturando nome das colunas importantes no dataset"
   ]
  },
  {
   "cell_type": "code",
   "execution_count": null,
   "metadata": {},
   "outputs": [],
   "source": [
    "string_gerada=\"\"\n",
    "for item in dataset.columns:\n",
    "    string_gerada += \"'\"+item+\"'\"+\", \"\n",
    "string_gerada"
   ]
  },
  {
   "cell_type": "code",
   "execution_count": null,
   "metadata": {},
   "outputs": [],
   "source": [
    "drop_c = ['ANO_BO', 'NUM_BO', 'BO_INICIADO', 'BO_EMITIDO', 'DATAOCORRENCIA', 'HORAOCORRENCIA', 'PERIDOOCORRENCIA', 'DATACOMUNICACAO', 'DATAELABORACAO', 'BO_AUTORIA', 'FLAGRANTE', 'LOGRADOURO', 'NUMERO', 'BAIRRO', 'CIDADE', 'UF', 'LATITUDE', 'LONGITUDE', 'DESCRICAOLOCAL', 'SOLUCAO', 'DELEGACIA_NOME', 'DELEGACIA_CIRCUNSCRICAO', 'ESPECIE', 'RUBRICA', 'DESDOBRAMENTO', 'STATUS', 'QUANT_CELULAR', 'MARCA_CELULAR']"
   ]
  },
  {
   "cell_type": "code",
   "execution_count": null,
   "metadata": {},
   "outputs": [],
   "source": [
    "string_gerada=[]\n",
    "for item in dataset.columns:\n",
    "    string_gerada.append(item)\n",
    "string_gerada"
   ]
  },
  {
   "cell_type": "code",
   "execution_count": null,
   "metadata": {},
   "outputs": [],
   "source": [
    "columns = ['NUMERO_BOLETIM', 'NUMERO_BOLETIM_PRINCIPAL', 'EXAME', 'NOMEPESSOA', 'TIPOPESSOA', 'VITIMAFATAL', 'RG', 'RG_UF', 'NATURALIDADE', 'NACIONALIDADE', 'SEXO', 'DATANASCIMENTO', 'IDADE', 'ESTADOCIVIL', 'PROFISSAO', 'GRAUINSTRUCAO', 'CORCUTIS', 'NATUREZAVINCULADA', 'TIPOVINCULO', 'RELACIONAMENTO', 'PARENTESCO', 'PLACA_VEICULO', 'UF_VEICULO', 'CIDADE_VEICULO', 'DESCR_COR_VEICULO', 'DESCR_MARCA_VEICULO', 'ANO_FABRICACAO', 'ANO_MODELO', 'DESCR_TIPO_VEICULO']"
   ]
  },
  {
   "cell_type": "markdown",
   "metadata": {},
   "source": [
    "https://pandas.pydata.org/pandas-docs/stable/reference/api/pandas.read_excel.html\n"
   ]
  }
 ],
 "metadata": {
  "kernelspec": {
   "display_name": "Python 3",
   "language": "python",
   "name": "python3"
  },
  "language_info": {
   "codemirror_mode": {
    "name": "ipython",
    "version": 3
   },
   "file_extension": ".py",
   "mimetype": "text/x-python",
   "name": "python",
   "nbconvert_exporter": "python",
   "pygments_lexer": "ipython3",
   "version": "3.7.9"
  }
 },
 "nbformat": 4,
 "nbformat_minor": 4
}
