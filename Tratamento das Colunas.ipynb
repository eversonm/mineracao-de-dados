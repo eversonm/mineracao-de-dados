{
 "cells": [
  {
   "cell_type": "code",
   "execution_count": 1,
   "metadata": {},
   "outputs": [],
   "source": [
    "import pandas as pd\n",
    "import numpy as np\n",
    "import glob  \n",
    "import plotly.graph_objs as go\n",
    "import plotly.offline as py\n",
    "import matplotlib.pyplot as plt               # Visualização de dados\n",
    "import matplotlib\n",
    "plt.style.use('fivethirtyeight') \n",
    "#import squarify\n",
    "from datetime import datetime\n",
    "from folium import Map\n",
    "from folium.plugins import HeatMap"
   ]
  },
  {
   "cell_type": "code",
   "execution_count": 2,
   "metadata": {},
   "outputs": [],
   "source": [
    "# FUNÇÃO PARA IMPORTAR DATASET\n",
    "\n",
    "dir_path = \"data/\"\n",
    "\n",
    "def importaData(files):\n",
    "    \n",
    "    data = dir_path + files\n",
    "    allFiles = glob.glob('data/*.csv')\n",
    "    list_ = []\n",
    "    dtypes = {\n",
    "        'ANO_BO': object,\n",
    "        'NUM_BO': object,\n",
    "        'DATAOCORRENCIA': object,\n",
    "        'PERIDOOCORRENCIA':object,\n",
    "        'BAIRRO':object,\n",
    "        'CIDADE':object,\n",
    "        'LATITUDE':object,\n",
    "        'LONGITUDE':object,\n",
    "        'LOGRADOURO':object,\n",
    "        'DESCRICAOLOCAL':object,\n",
    "        'DESCR_TIPO_VEICULO':object,\n",
    "        'DELEGACIA_NOME': object,\n",
    "        'QUANT_CELULAR': object\n",
    "    }\n",
    "    cols = ['ANO_BO', 'NUM_BO', 'DATAOCORRENCIA', 'PERIDOOCORRENCIA', 'BAIRRO', 'CIDADE', 'LATITUDE', 'LONGITUDE', 'LOGRADOURO', \\\n",
    "           'DESCRICAOLOCAL', 'DESCR_TIPO_VEICULO', 'DELEGACIA_NOME',  'QUANT_CELULAR']\n",
    "\n",
    "    for file_ in allFiles:\n",
    "        df = pd.read_csv(file_,index_col=None, header=0, delimiter=';', usecols=cols, dtype=dtypes, thousands=',')\n",
    "        list_.append(df)\n",
    "\n",
    "    df = pd.concat(list_, axis = 0, ignore_index = True)\n",
    "    return df\n",
    "\n",
    "# IMPORTANDO DATASET\n",
    "\n",
    "dataset = importaData('*.csv')"
   ]
  },
  {
   "cell_type": "code",
   "execution_count": 3,
   "metadata": {},
   "outputs": [
    {
     "name": "stdout",
     "output_type": "stream",
     "text": [
      "<class 'pandas.core.frame.DataFrame'>\n",
      "RangeIndex: 1278175 entries, 0 to 1278174\n",
      "Data columns (total 13 columns):\n",
      " #   Column              Non-Null Count    Dtype \n",
      "---  ------              --------------    ----- \n",
      " 0   ANO_BO              1278175 non-null  object\n",
      " 1   NUM_BO              1278175 non-null  object\n",
      " 2   DATAOCORRENCIA      1278172 non-null  object\n",
      " 3   PERIDOOCORRENCIA    1278174 non-null  object\n",
      " 4   LOGRADOURO          1224442 non-null  object\n",
      " 5   BAIRRO              1093579 non-null  object\n",
      " 6   CIDADE              1235274 non-null  object\n",
      " 7   LATITUDE            1090572 non-null  object\n",
      " 8   LONGITUDE           1090570 non-null  object\n",
      " 9   DESCRICAOLOCAL      1278173 non-null  object\n",
      " 10  DELEGACIA_NOME      1278172 non-null  object\n",
      " 11  DESCR_TIPO_VEICULO  162023 non-null   object\n",
      " 12  QUANT_CELULAR       932206 non-null   object\n",
      "dtypes: object(13)\n",
      "memory usage: 126.8+ MB\n"
     ]
    }
   ],
   "source": [
    "# REMOVENDO DADOS DUPLICADOS\n",
    "\n",
    "def removeDuplicados(df):\n",
    "    df.drop_duplicates(subset=['DELEGACIA_NOME', 'ANO_BO', 'NUM_BO'], inplace=True)\n",
    "    df.reset_index(drop=True,inplace=True)\n",
    "    return df\n",
    "\n",
    "# TRANSFORMANDO STRINGS PARA LOWER CASE\n",
    "\n",
    "def lowerCase(df, cols):\n",
    "    for col in cols:\n",
    "        df[col] = df[col].str.title()\n",
    "    \n",
    "    return df\n",
    "\n",
    "dataset = removeDuplicados(dataset)\n",
    "dataset.info()"
   ]
  },
  {
   "cell_type": "code",
   "execution_count": 4,
   "metadata": {},
   "outputs": [
    {
     "name": "stdout",
     "output_type": "stream",
     "text": [
      "<class 'pandas.core.frame.DataFrame'>\n",
      "RangeIndex: 1278175 entries, 0 to 1278174\n",
      "Data columns (total 13 columns):\n",
      " #   Column              Non-Null Count    Dtype  \n",
      "---  ------              --------------    -----  \n",
      " 0   ANO_BO              1278173 non-null  float64\n",
      " 1   NUM_BO              1278172 non-null  float64\n",
      " 2   DATAOCORRENCIA      1278172 non-null  object \n",
      " 3   PERIDOOCORRENCIA    1278174 non-null  object \n",
      " 4   LOGRADOURO          1224442 non-null  object \n",
      " 5   BAIRRO              1093579 non-null  object \n",
      " 6   CIDADE              1235274 non-null  object \n",
      " 7   LATITUDE            1090571 non-null  float64\n",
      " 8   LONGITUDE           1090569 non-null  float64\n",
      " 9   DESCRICAOLOCAL      1278173 non-null  object \n",
      " 10  DELEGACIA_NOME      1278172 non-null  object \n",
      " 11  DESCR_TIPO_VEICULO  162023 non-null   object \n",
      " 12  QUANT_CELULAR       932205 non-null   float64\n",
      "dtypes: float64(5), object(8)\n",
      "memory usage: 126.8+ MB\n"
     ]
    }
   ],
   "source": [
    "dataset['ANO_BO'] = pd.to_numeric(dataset['ANO_BO'], errors='coerce', downcast='integer')\n",
    "dataset['NUM_BO'] = pd.to_numeric(dataset['NUM_BO'], errors='coerce', downcast='integer')\n",
    "\n",
    "\n",
    "dataset['LATITUDE'] = dataset['LATITUDE'].replace({',':'.'}, regex=True)\n",
    "dataset['LONGITUDE'] = dataset['LONGITUDE'].replace({',':'.'}, regex=True)\n",
    "\n",
    "dataset['LATITUDE'] = pd.to_numeric(dataset['LATITUDE'], errors='coerce')\n",
    "dataset['LONGITUDE'] = pd.to_numeric(dataset['LONGITUDE'], errors='coerce')\n",
    "\n",
    "dataset['QUANT_CELULAR'] = pd.to_numeric(dataset['QUANT_CELULAR'], errors='coerce')\n",
    "dataset.reset_index(drop='index',inplace=True)\n",
    "dataset.info()"
   ]
  },
  {
   "cell_type": "code",
   "execution_count": null,
   "metadata": {},
   "outputs": [],
   "source": [
    "dataset"
   ]
  },
  {
   "cell_type": "code",
   "execution_count": 5,
   "metadata": {},
   "outputs": [],
   "source": [
    "#dataset.drop(686741, inplace=True)\n",
    "\n",
    "dataset['datacorreta'] = pd.to_datetime(dataset['DATAOCORRENCIA'], format='%d/%m/%Y', errors = 'coerce')\n",
    "dataset.drop(dataset[dataset['datacorreta'].isnull()].index, inplace=True)\n",
    "dataset.drop(dataset[dataset['datacorreta']<'2010-01-01'].index, inplace=True)\n",
    "dataset.drop(columns=['DATAOCORRENCIA'], inplace=True)\n",
    "colsToLower = [\"PERIDOOCORRENCIA\", \"LOGRADOURO\", \"BAIRRO\", \"DESCR_TIPO_VEICULO\", \"CIDADE\"]\n",
    "\n",
    "all_data = lowerCase(dataset, colsToLower)\n",
    "all_data = dataset[dataset['CIDADE']=='S.Paulo']"
   ]
  },
  {
   "cell_type": "code",
   "execution_count": 45,
   "metadata": {},
   "outputs": [
    {
     "data": {
      "text/html": [
       "<div>\n",
       "<style scoped>\n",
       "    .dataframe tbody tr th:only-of-type {\n",
       "        vertical-align: middle;\n",
       "    }\n",
       "\n",
       "    .dataframe tbody tr th {\n",
       "        vertical-align: top;\n",
       "    }\n",
       "\n",
       "    .dataframe thead th {\n",
       "        text-align: right;\n",
       "    }\n",
       "</style>\n",
       "<table border=\"1\" class=\"dataframe\">\n",
       "  <thead>\n",
       "    <tr style=\"text-align: right;\">\n",
       "      <th></th>\n",
       "      <th>ANO_BO</th>\n",
       "      <th>NUM_BO</th>\n",
       "      <th>PERIDOOCORRENCIA</th>\n",
       "      <th>LOGRADOURO</th>\n",
       "      <th>BAIRRO</th>\n",
       "      <th>CIDADE</th>\n",
       "      <th>LATITUDE</th>\n",
       "      <th>LONGITUDE</th>\n",
       "      <th>DESCRICAOLOCAL</th>\n",
       "      <th>DELEGACIA_NOME</th>\n",
       "      <th>DESCR_TIPO_VEICULO</th>\n",
       "      <th>QUANT_CELULAR</th>\n",
       "      <th>datacorreta</th>\n",
       "    </tr>\n",
       "  </thead>\n",
       "  <tbody>\n",
       "    <tr>\n",
       "      <th>54654</th>\n",
       "      <td>2014.0</td>\n",
       "      <td>134763.0</td>\n",
       "      <td>A Noite</td>\n",
       "      <td>Acesso Para Av Das Juntas Provisórias</td>\n",
       "      <td>Ipiranga</td>\n",
       "      <td>Sao Paulo</td>\n",
       "      <td>-23.591821</td>\n",
       "      <td>-46.597979</td>\n",
       "      <td>Outros</td>\n",
       "      <td>DELEGACIA ELETRONICA</td>\n",
       "      <td>NaN</td>\n",
       "      <td>1.0</td>\n",
       "      <td>2013-12-31</td>\n",
       "    </tr>\n",
       "    <tr>\n",
       "      <th>54688</th>\n",
       "      <td>2014.0</td>\n",
       "      <td>134907.0</td>\n",
       "      <td>A Noite</td>\n",
       "      <td>Av. Miguel Estefno</td>\n",
       "      <td>Saude</td>\n",
       "      <td>Sao Paulo</td>\n",
       "      <td>-23.630671</td>\n",
       "      <td>-46.627645</td>\n",
       "      <td>Outros</td>\n",
       "      <td>DELEGACIA ELETRONICA</td>\n",
       "      <td>NaN</td>\n",
       "      <td>1.0</td>\n",
       "      <td>2014-01-31</td>\n",
       "    </tr>\n",
       "    <tr>\n",
       "      <th>54727</th>\n",
       "      <td>2014.0</td>\n",
       "      <td>135046.0</td>\n",
       "      <td>Pela Manhã</td>\n",
       "      <td>Rua Moipora</td>\n",
       "      <td>Itaquera</td>\n",
       "      <td>Sao Paulo</td>\n",
       "      <td>-23.521215</td>\n",
       "      <td>-46.455181</td>\n",
       "      <td>Outros</td>\n",
       "      <td>DELEGACIA ELETRONICA</td>\n",
       "      <td>NaN</td>\n",
       "      <td>1.0</td>\n",
       "      <td>2014-02-01</td>\n",
       "    </tr>\n",
       "    <tr>\n",
       "      <th>54800</th>\n",
       "      <td>2014.0</td>\n",
       "      <td>135534.0</td>\n",
       "      <td>A Tarde</td>\n",
       "      <td>Rua Taquari, 546</td>\n",
       "      <td>Mooca</td>\n",
       "      <td>Sao Paulo</td>\n",
       "      <td>-23.550107</td>\n",
       "      <td>-46.596592</td>\n",
       "      <td>Outros</td>\n",
       "      <td>DELEGACIA ELETRONICA</td>\n",
       "      <td>NaN</td>\n",
       "      <td>1.0</td>\n",
       "      <td>2014-01-31</td>\n",
       "    </tr>\n",
       "    <tr>\n",
       "      <th>54864</th>\n",
       "      <td>2014.0</td>\n",
       "      <td>136449.0</td>\n",
       "      <td>Pela Manhã</td>\n",
       "      <td>Av: Itaquera</td>\n",
       "      <td>Vila Carmosina</td>\n",
       "      <td>Sao Paulo</td>\n",
       "      <td>-23.548383</td>\n",
       "      <td>-46.461744</td>\n",
       "      <td>Outros</td>\n",
       "      <td>DELEGACIA ELETRONICA</td>\n",
       "      <td>NaN</td>\n",
       "      <td>1.0</td>\n",
       "      <td>2014-02-01</td>\n",
       "    </tr>\n",
       "    <tr>\n",
       "      <th>...</th>\n",
       "      <td>...</td>\n",
       "      <td>...</td>\n",
       "      <td>...</td>\n",
       "      <td>...</td>\n",
       "      <td>...</td>\n",
       "      <td>...</td>\n",
       "      <td>...</td>\n",
       "      <td>...</td>\n",
       "      <td>...</td>\n",
       "      <td>...</td>\n",
       "      <td>...</td>\n",
       "      <td>...</td>\n",
       "      <td>...</td>\n",
       "    </tr>\n",
       "    <tr>\n",
       "      <th>900573</th>\n",
       "      <td>2014.0</td>\n",
       "      <td>394249.0</td>\n",
       "      <td>Pela Manhã</td>\n",
       "      <td>Largo Do Arouche</td>\n",
       "      <td>Centro</td>\n",
       "      <td>Sao Paulo</td>\n",
       "      <td>NaN</td>\n",
       "      <td>NaN</td>\n",
       "      <td>Outros</td>\n",
       "      <td>DELEGACIA ELETRONICA</td>\n",
       "      <td>NaN</td>\n",
       "      <td>1.0</td>\n",
       "      <td>2014-03-31</td>\n",
       "    </tr>\n",
       "    <tr>\n",
       "      <th>989416</th>\n",
       "      <td>2013.0</td>\n",
       "      <td>1287655.0</td>\n",
       "      <td>A Tarde</td>\n",
       "      <td>Rua Agrimensor Sugaya</td>\n",
       "      <td>Itaquera</td>\n",
       "      <td>Sao Paulo</td>\n",
       "      <td>-23.559434</td>\n",
       "      <td>-46.437407</td>\n",
       "      <td>Outros</td>\n",
       "      <td>DELEGACIA ELETRONICA</td>\n",
       "      <td>Automovel</td>\n",
       "      <td>1.0</td>\n",
       "      <td>2013-11-26</td>\n",
       "    </tr>\n",
       "    <tr>\n",
       "      <th>989549</th>\n",
       "      <td>2013.0</td>\n",
       "      <td>1290691.0</td>\n",
       "      <td>A Noite</td>\n",
       "      <td>Rua Jaguar</td>\n",
       "      <td>São Miguel Pta</td>\n",
       "      <td>Sao Paulo</td>\n",
       "      <td>-23.502392</td>\n",
       "      <td>-46.422370</td>\n",
       "      <td>Outros</td>\n",
       "      <td>DELEGACIA ELETRONICA</td>\n",
       "      <td>Automovel</td>\n",
       "      <td>1.0</td>\n",
       "      <td>2013-11-27</td>\n",
       "    </tr>\n",
       "    <tr>\n",
       "      <th>990016</th>\n",
       "      <td>2013.0</td>\n",
       "      <td>1297003.0</td>\n",
       "      <td>A Noite</td>\n",
       "      <td>Rua Comendador Antunes Dos Santos</td>\n",
       "      <td>Jd. Vaz De Lima</td>\n",
       "      <td>Sao Paulo</td>\n",
       "      <td>-23.669998</td>\n",
       "      <td>-46.761747</td>\n",
       "      <td>Outros</td>\n",
       "      <td>DELEGACIA ELETRONICA</td>\n",
       "      <td>Automovel</td>\n",
       "      <td>1.0</td>\n",
       "      <td>2013-11-28</td>\n",
       "    </tr>\n",
       "    <tr>\n",
       "      <th>990153</th>\n",
       "      <td>2013.0</td>\n",
       "      <td>1299490.0</td>\n",
       "      <td>A Noite</td>\n",
       "      <td>R Jamacaru</td>\n",
       "      <td>Vila Isa</td>\n",
       "      <td>Sao Paulo</td>\n",
       "      <td>-23.668379</td>\n",
       "      <td>-46.690880</td>\n",
       "      <td>Outros</td>\n",
       "      <td>DELEGACIA ELETRONICA</td>\n",
       "      <td>Automovel</td>\n",
       "      <td>1.0</td>\n",
       "      <td>2013-11-29</td>\n",
       "    </tr>\n",
       "  </tbody>\n",
       "</table>\n",
       "<p>1725 rows × 13 columns</p>\n",
       "</div>"
      ],
      "text/plain": [
       "        ANO_BO     NUM_BO PERIDOOCORRENCIA  \\\n",
       "54654   2014.0   134763.0          A Noite   \n",
       "54688   2014.0   134907.0          A Noite   \n",
       "54727   2014.0   135046.0       Pela Manhã   \n",
       "54800   2014.0   135534.0          A Tarde   \n",
       "54864   2014.0   136449.0       Pela Manhã   \n",
       "...        ...        ...              ...   \n",
       "900573  2014.0   394249.0       Pela Manhã   \n",
       "989416  2013.0  1287655.0          A Tarde   \n",
       "989549  2013.0  1290691.0          A Noite   \n",
       "990016  2013.0  1297003.0          A Noite   \n",
       "990153  2013.0  1299490.0          A Noite   \n",
       "\n",
       "                                   LOGRADOURO           BAIRRO     CIDADE  \\\n",
       "54654   Acesso Para Av Das Juntas Provisórias         Ipiranga  Sao Paulo   \n",
       "54688                      Av. Miguel Estefno            Saude  Sao Paulo   \n",
       "54727                             Rua Moipora         Itaquera  Sao Paulo   \n",
       "54800                        Rua Taquari, 546            Mooca  Sao Paulo   \n",
       "54864                            Av: Itaquera   Vila Carmosina  Sao Paulo   \n",
       "...                                       ...              ...        ...   \n",
       "900573                       Largo Do Arouche           Centro  Sao Paulo   \n",
       "989416                  Rua Agrimensor Sugaya         Itaquera  Sao Paulo   \n",
       "989549                             Rua Jaguar   São Miguel Pta  Sao Paulo   \n",
       "990016      Rua Comendador Antunes Dos Santos  Jd. Vaz De Lima  Sao Paulo   \n",
       "990153                             R Jamacaru         Vila Isa  Sao Paulo   \n",
       "\n",
       "         LATITUDE  LONGITUDE DESCRICAOLOCAL        DELEGACIA_NOME  \\\n",
       "54654  -23.591821 -46.597979         Outros  DELEGACIA ELETRONICA   \n",
       "54688  -23.630671 -46.627645         Outros  DELEGACIA ELETRONICA   \n",
       "54727  -23.521215 -46.455181         Outros  DELEGACIA ELETRONICA   \n",
       "54800  -23.550107 -46.596592         Outros  DELEGACIA ELETRONICA   \n",
       "54864  -23.548383 -46.461744         Outros  DELEGACIA ELETRONICA   \n",
       "...           ...        ...            ...                   ...   \n",
       "900573        NaN        NaN         Outros  DELEGACIA ELETRONICA   \n",
       "989416 -23.559434 -46.437407         Outros  DELEGACIA ELETRONICA   \n",
       "989549 -23.502392 -46.422370         Outros  DELEGACIA ELETRONICA   \n",
       "990016 -23.669998 -46.761747         Outros  DELEGACIA ELETRONICA   \n",
       "990153 -23.668379 -46.690880         Outros  DELEGACIA ELETRONICA   \n",
       "\n",
       "       DESCR_TIPO_VEICULO  QUANT_CELULAR datacorreta  \n",
       "54654                 NaN            1.0  2013-12-31  \n",
       "54688                 NaN            1.0  2014-01-31  \n",
       "54727                 NaN            1.0  2014-02-01  \n",
       "54800                 NaN            1.0  2014-01-31  \n",
       "54864                 NaN            1.0  2014-02-01  \n",
       "...                   ...            ...         ...  \n",
       "900573                NaN            1.0  2014-03-31  \n",
       "989416          Automovel            1.0  2013-11-26  \n",
       "989549          Automovel            1.0  2013-11-27  \n",
       "990016          Automovel            1.0  2013-11-28  \n",
       "990153          Automovel            1.0  2013-11-29  \n",
       "\n",
       "[1725 rows x 13 columns]"
      ]
     },
     "execution_count": 45,
     "metadata": {},
     "output_type": "execute_result"
    }
   ],
   "source": [
    "dataset[dataset['CIDADE']=='Sao Paulo']"
   ]
  },
  {
   "cell_type": "code",
   "execution_count": null,
   "metadata": {},
   "outputs": [],
   "source": [
    "dataset[dataset['ANO_BO'].isnull()]"
   ]
  },
  {
   "cell_type": "code",
   "execution_count": null,
   "metadata": {},
   "outputs": [],
   "source": [
    "dataset[dataset['NUM_BO'].isnull()]"
   ]
  },
  {
   "cell_type": "code",
   "execution_count": null,
   "metadata": {},
   "outputs": [],
   "source": [
    "dataset[dataset['QUANT_CELULAR'].isnull()]"
   ]
  },
  {
   "cell_type": "code",
   "execution_count": null,
   "metadata": {},
   "outputs": [],
   "source": [
    "dataset.reset_index(drop='index',inplace=True)"
   ]
  },
  {
   "cell_type": "code",
   "execution_count": 6,
   "metadata": {},
   "outputs": [
    {
     "data": {
      "text/html": [
       "<div>\n",
       "<style scoped>\n",
       "    .dataframe tbody tr th:only-of-type {\n",
       "        vertical-align: middle;\n",
       "    }\n",
       "\n",
       "    .dataframe tbody tr th {\n",
       "        vertical-align: top;\n",
       "    }\n",
       "\n",
       "    .dataframe thead th {\n",
       "        text-align: right;\n",
       "    }\n",
       "</style>\n",
       "<table border=\"1\" class=\"dataframe\">\n",
       "  <thead>\n",
       "    <tr style=\"text-align: right;\">\n",
       "      <th></th>\n",
       "      <th>ANO_BO</th>\n",
       "      <th>NUM_BO</th>\n",
       "      <th>PERIDOOCORRENCIA</th>\n",
       "      <th>LOGRADOURO</th>\n",
       "      <th>BAIRRO</th>\n",
       "      <th>CIDADE</th>\n",
       "      <th>LATITUDE</th>\n",
       "      <th>LONGITUDE</th>\n",
       "      <th>DESCRICAOLOCAL</th>\n",
       "      <th>DELEGACIA_NOME</th>\n",
       "      <th>DESCR_TIPO_VEICULO</th>\n",
       "      <th>QUANT_CELULAR</th>\n",
       "      <th>datacorreta</th>\n",
       "    </tr>\n",
       "  </thead>\n",
       "  <tbody>\n",
       "    <tr>\n",
       "      <th>0</th>\n",
       "      <td>2011.0</td>\n",
       "      <td>4486.0</td>\n",
       "      <td>A Noite</td>\n",
       "      <td>NaN</td>\n",
       "      <td>NaN</td>\n",
       "      <td>NaN</td>\n",
       "      <td>NaN</td>\n",
       "      <td>NaN</td>\n",
       "      <td>Residência</td>\n",
       "      <td>30º D.P. TATUAPE</td>\n",
       "      <td>Utilitário</td>\n",
       "      <td>1.0</td>\n",
       "      <td>2011-05-31</td>\n",
       "    </tr>\n",
       "    <tr>\n",
       "      <th>2</th>\n",
       "      <td>2011.0</td>\n",
       "      <td>2447.0</td>\n",
       "      <td>A Noite</td>\n",
       "      <td>NaN</td>\n",
       "      <td>NaN</td>\n",
       "      <td>NaN</td>\n",
       "      <td>NaN</td>\n",
       "      <td>NaN</td>\n",
       "      <td>Residência</td>\n",
       "      <td>53º D.P. PARQUE DO CARMO</td>\n",
       "      <td>Automovel</td>\n",
       "      <td>1.0</td>\n",
       "      <td>2011-05-31</td>\n",
       "    </tr>\n",
       "    <tr>\n",
       "      <th>16</th>\n",
       "      <td>2011.0</td>\n",
       "      <td>6489.0</td>\n",
       "      <td>De Madrugada</td>\n",
       "      <td>NaN</td>\n",
       "      <td>NaN</td>\n",
       "      <td>NaN</td>\n",
       "      <td>NaN</td>\n",
       "      <td>NaN</td>\n",
       "      <td>Residência</td>\n",
       "      <td>13º D.P. CASA VERDE</td>\n",
       "      <td>NaN</td>\n",
       "      <td>NaN</td>\n",
       "      <td>2011-06-01</td>\n",
       "    </tr>\n",
       "    <tr>\n",
       "      <th>18</th>\n",
       "      <td>2011.0</td>\n",
       "      <td>3496.0</td>\n",
       "      <td>A Noite</td>\n",
       "      <td>NaN</td>\n",
       "      <td>NaN</td>\n",
       "      <td>NaN</td>\n",
       "      <td>NaN</td>\n",
       "      <td>NaN</td>\n",
       "      <td>Residência</td>\n",
       "      <td>51º D.P. RIO PEQUENO</td>\n",
       "      <td>NaN</td>\n",
       "      <td>1.0</td>\n",
       "      <td>2011-05-31</td>\n",
       "    </tr>\n",
       "    <tr>\n",
       "      <th>28</th>\n",
       "      <td>2011.0</td>\n",
       "      <td>3710.0</td>\n",
       "      <td>De Madrugada</td>\n",
       "      <td>NaN</td>\n",
       "      <td>NaN</td>\n",
       "      <td>NaN</td>\n",
       "      <td>NaN</td>\n",
       "      <td>NaN</td>\n",
       "      <td>Residência</td>\n",
       "      <td>41º D.P. VILA RICA</td>\n",
       "      <td>Automovel</td>\n",
       "      <td>NaN</td>\n",
       "      <td>2011-06-01</td>\n",
       "    </tr>\n",
       "    <tr>\n",
       "      <th>...</th>\n",
       "      <td>...</td>\n",
       "      <td>...</td>\n",
       "      <td>...</td>\n",
       "      <td>...</td>\n",
       "      <td>...</td>\n",
       "      <td>...</td>\n",
       "      <td>...</td>\n",
       "      <td>...</td>\n",
       "      <td>...</td>\n",
       "      <td>...</td>\n",
       "      <td>...</td>\n",
       "      <td>...</td>\n",
       "      <td>...</td>\n",
       "    </tr>\n",
       "    <tr>\n",
       "      <th>1278165</th>\n",
       "      <td>2015.0</td>\n",
       "      <td>542071.0</td>\n",
       "      <td>A Noite</td>\n",
       "      <td>Rua: Borromini</td>\n",
       "      <td>Jardim São Luiz</td>\n",
       "      <td>S.Paulo</td>\n",
       "      <td>NaN</td>\n",
       "      <td>NaN</td>\n",
       "      <td>Outros</td>\n",
       "      <td>DELEGACIA ELETRONICA</td>\n",
       "      <td>NaN</td>\n",
       "      <td>1.0</td>\n",
       "      <td>2015-04-30</td>\n",
       "    </tr>\n",
       "    <tr>\n",
       "      <th>1278166</th>\n",
       "      <td>2015.0</td>\n",
       "      <td>542072.0</td>\n",
       "      <td>A Noite</td>\n",
       "      <td>Rua Calógero Calia</td>\n",
       "      <td>Vila Santo Stéfano</td>\n",
       "      <td>S.Paulo</td>\n",
       "      <td>NaN</td>\n",
       "      <td>NaN</td>\n",
       "      <td>Outros</td>\n",
       "      <td>DELEGACIA ELETRONICA</td>\n",
       "      <td>Automovel</td>\n",
       "      <td>1.0</td>\n",
       "      <td>2015-04-30</td>\n",
       "    </tr>\n",
       "    <tr>\n",
       "      <th>1278167</th>\n",
       "      <td>2015.0</td>\n",
       "      <td>542096.0</td>\n",
       "      <td>A Noite</td>\n",
       "      <td>Rua Orense</td>\n",
       "      <td>Imirim</td>\n",
       "      <td>S.Paulo</td>\n",
       "      <td>NaN</td>\n",
       "      <td>NaN</td>\n",
       "      <td>Outros</td>\n",
       "      <td>DELEGACIA ELETRONICA</td>\n",
       "      <td>NaN</td>\n",
       "      <td>1.0</td>\n",
       "      <td>2015-04-30</td>\n",
       "    </tr>\n",
       "    <tr>\n",
       "      <th>1278169</th>\n",
       "      <td>2015.0</td>\n",
       "      <td>542125.0</td>\n",
       "      <td>A Noite</td>\n",
       "      <td>Consolação 68</td>\n",
       "      <td>Consolaçao</td>\n",
       "      <td>S.Paulo</td>\n",
       "      <td>NaN</td>\n",
       "      <td>NaN</td>\n",
       "      <td>Outros</td>\n",
       "      <td>DELEGACIA ELETRONICA</td>\n",
       "      <td>NaN</td>\n",
       "      <td>1.0</td>\n",
       "      <td>2015-04-30</td>\n",
       "    </tr>\n",
       "    <tr>\n",
       "      <th>1278170</th>\n",
       "      <td>2015.0</td>\n",
       "      <td>542079.0</td>\n",
       "      <td>Pela Manhã</td>\n",
       "      <td>Rua Conselheiro Ramalho</td>\n",
       "      <td>Bela Vista</td>\n",
       "      <td>S.Paulo</td>\n",
       "      <td>NaN</td>\n",
       "      <td>NaN</td>\n",
       "      <td>Outros</td>\n",
       "      <td>DELEGACIA ELETRONICA</td>\n",
       "      <td>NaN</td>\n",
       "      <td>1.0</td>\n",
       "      <td>2015-04-30</td>\n",
       "    </tr>\n",
       "  </tbody>\n",
       "</table>\n",
       "<p>186737 rows × 13 columns</p>\n",
       "</div>"
      ],
      "text/plain": [
       "         ANO_BO    NUM_BO PERIDOOCORRENCIA               LOGRADOURO  \\\n",
       "0        2011.0    4486.0          A Noite                      NaN   \n",
       "2        2011.0    2447.0          A Noite                      NaN   \n",
       "16       2011.0    6489.0     De Madrugada                      NaN   \n",
       "18       2011.0    3496.0          A Noite                      NaN   \n",
       "28       2011.0    3710.0     De Madrugada                      NaN   \n",
       "...         ...       ...              ...                      ...   \n",
       "1278165  2015.0  542071.0          A Noite           Rua: Borromini   \n",
       "1278166  2015.0  542072.0          A Noite       Rua Calógero Calia   \n",
       "1278167  2015.0  542096.0          A Noite               Rua Orense   \n",
       "1278169  2015.0  542125.0          A Noite            Consolação 68   \n",
       "1278170  2015.0  542079.0       Pela Manhã  Rua Conselheiro Ramalho   \n",
       "\n",
       "                     BAIRRO   CIDADE  LATITUDE  LONGITUDE DESCRICAOLOCAL  \\\n",
       "0                       NaN      NaN       NaN        NaN     Residência   \n",
       "2                       NaN      NaN       NaN        NaN     Residência   \n",
       "16                      NaN      NaN       NaN        NaN     Residência   \n",
       "18                      NaN      NaN       NaN        NaN     Residência   \n",
       "28                      NaN      NaN       NaN        NaN     Residência   \n",
       "...                     ...      ...       ...        ...            ...   \n",
       "1278165     Jardim São Luiz  S.Paulo       NaN        NaN         Outros   \n",
       "1278166  Vila Santo Stéfano  S.Paulo       NaN        NaN         Outros   \n",
       "1278167              Imirim  S.Paulo       NaN        NaN         Outros   \n",
       "1278169          Consolaçao  S.Paulo       NaN        NaN         Outros   \n",
       "1278170          Bela Vista  S.Paulo       NaN        NaN         Outros   \n",
       "\n",
       "                   DELEGACIA_NOME DESCR_TIPO_VEICULO  QUANT_CELULAR  \\\n",
       "0                30º D.P. TATUAPE         Utilitário            1.0   \n",
       "2        53º D.P. PARQUE DO CARMO          Automovel            1.0   \n",
       "16            13º D.P. CASA VERDE                NaN            NaN   \n",
       "18           51º D.P. RIO PEQUENO                NaN            1.0   \n",
       "28             41º D.P. VILA RICA          Automovel            NaN   \n",
       "...                           ...                ...            ...   \n",
       "1278165      DELEGACIA ELETRONICA                NaN            1.0   \n",
       "1278166      DELEGACIA ELETRONICA          Automovel            1.0   \n",
       "1278167      DELEGACIA ELETRONICA                NaN            1.0   \n",
       "1278169      DELEGACIA ELETRONICA                NaN            1.0   \n",
       "1278170      DELEGACIA ELETRONICA                NaN            1.0   \n",
       "\n",
       "        datacorreta  \n",
       "0        2011-05-31  \n",
       "2        2011-05-31  \n",
       "16       2011-06-01  \n",
       "18       2011-05-31  \n",
       "28       2011-06-01  \n",
       "...             ...  \n",
       "1278165  2015-04-30  \n",
       "1278166  2015-04-30  \n",
       "1278167  2015-04-30  \n",
       "1278169  2015-04-30  \n",
       "1278170  2015-04-30  \n",
       "\n",
       "[186737 rows x 13 columns]"
      ]
     },
     "execution_count": 6,
     "metadata": {},
     "output_type": "execute_result"
    }
   ],
   "source": [
    "dataset[dataset['LONGITUDE'].isnull()]"
   ]
  },
  {
   "cell_type": "code",
   "execution_count": null,
   "metadata": {},
   "outputs": [],
   "source": [
    "dataset = dataset[dataset['LONGITUDE'].notnull()]"
   ]
  },
  {
   "cell_type": "code",
   "execution_count": null,
   "metadata": {},
   "outputs": [],
   "source": [
    "all_data = all_data[all_data['CIDADE']=='S.Paulo']"
   ]
  },
  {
   "cell_type": "code",
   "execution_count": 16,
   "metadata": {},
   "outputs": [
    {
     "data": {
      "text/html": [
       "<div>\n",
       "<style scoped>\n",
       "    .dataframe tbody tr th:only-of-type {\n",
       "        vertical-align: middle;\n",
       "    }\n",
       "\n",
       "    .dataframe tbody tr th {\n",
       "        vertical-align: top;\n",
       "    }\n",
       "\n",
       "    .dataframe thead th {\n",
       "        text-align: right;\n",
       "    }\n",
       "</style>\n",
       "<table border=\"1\" class=\"dataframe\">\n",
       "  <thead>\n",
       "    <tr style=\"text-align: right;\">\n",
       "      <th></th>\n",
       "      <th>ANO_BO</th>\n",
       "      <th>NUM_BO</th>\n",
       "      <th>PERIDOOCORRENCIA</th>\n",
       "      <th>LOGRADOURO</th>\n",
       "      <th>BAIRRO</th>\n",
       "      <th>CIDADE</th>\n",
       "      <th>LATITUDE</th>\n",
       "      <th>LONGITUDE</th>\n",
       "      <th>DESCRICAOLOCAL</th>\n",
       "      <th>DELEGACIA_NOME</th>\n",
       "      <th>DESCR_TIPO_VEICULO</th>\n",
       "      <th>QUANT_CELULAR</th>\n",
       "      <th>datacorreta</th>\n",
       "    </tr>\n",
       "  </thead>\n",
       "  <tbody>\n",
       "  </tbody>\n",
       "</table>\n",
       "</div>"
      ],
      "text/plain": [
       "Empty DataFrame\n",
       "Columns: [ANO_BO, NUM_BO, PERIDOOCORRENCIA, LOGRADOURO, BAIRRO, CIDADE, LATITUDE, LONGITUDE, DESCRICAOLOCAL, DELEGACIA_NOME, DESCR_TIPO_VEICULO, QUANT_CELULAR, datacorreta]\n",
       "Index: []"
      ]
     },
     "execution_count": 16,
     "metadata": {},
     "output_type": "execute_result"
    }
   ],
   "source": [
    "all_data[all_data['LONGITUDE']==27486.0]"
   ]
  },
  {
   "cell_type": "code",
   "execution_count": null,
   "metadata": {},
   "outputs": [],
   "source": [
    "all_data"
   ]
  },
  {
   "cell_type": "code",
   "execution_count": null,
   "metadata": {},
   "outputs": [],
   "source": [
    "all_data.drop(686741, inplace=True)"
   ]
  },
  {
   "cell_type": "code",
   "execution_count": null,
   "metadata": {},
   "outputs": [],
   "source": [
    "all_data['datacorreta'] = pd.to_datetime(all_data['DATAOCORRENCIA'], format='%d/%m/%Y', errors = 'coerce')\n",
    "#all_data['DATAOCORRENCIA'] = all_data['DATAOCORRENCIA'].astype('datetime64')"
   ]
  },
  {
   "cell_type": "code",
   "execution_count": null,
   "metadata": {},
   "outputs": [],
   "source": [
    "all_data.drop(all_data[all_data['DATAOCORRENCIA']<'2010-01-01'].index, inplace=True)"
   ]
  },
  {
   "cell_type": "code",
   "execution_count": null,
   "metadata": {},
   "outputs": [],
   "source": [
    "all_data.drop(all_data[all_data['datacorreta'].isnull()].index, inplace=True)"
   ]
  },
  {
   "cell_type": "code",
   "execution_count": null,
   "metadata": {},
   "outputs": [],
   "source": [
    "all_data[all_data['datacorreta']<'2010-01-01']"
   ]
  },
  {
   "cell_type": "markdown",
   "metadata": {},
   "source": [
    "DBSCAN"
   ]
  },
  {
   "cell_type": "code",
   "execution_count": 7,
   "metadata": {},
   "outputs": [],
   "source": [
    "all_data = all_data[all_data['LONGITUDE'].notnull()]"
   ]
  },
  {
   "cell_type": "code",
   "execution_count": 21,
   "metadata": {},
   "outputs": [],
   "source": [
    "X = np.array(all_data[['LATITUDE','LONGITUDE']])"
   ]
  },
  {
   "cell_type": "code",
   "execution_count": 9,
   "metadata": {},
   "outputs": [],
   "source": [
    "from sklearn.cluster import KMeans\n",
    "kmeans = KMeans(n_clusters=5, random_state=0).fit(X)"
   ]
  },
  {
   "cell_type": "code",
   "execution_count": 26,
   "metadata": {},
   "outputs": [
    {
     "data": {
      "text/plain": [
       "array([      2,       5,       7, ..., 1758985, 1758987, 1758989])"
      ]
     },
     "execution_count": 26,
     "metadata": {},
     "output_type": "execute_result"
    }
   ],
   "source": [
    "kmeans.labels_."
   ]
  },
  {
   "cell_type": "code",
   "execution_count": 46,
   "metadata": {},
   "outputs": [
    {
     "data": {
      "text/plain": [
       "(array([0, 1, 2, 3, 4], dtype=int32),\n",
       " array([239694, 306447, 240718,     43, 158390]))"
      ]
     },
     "execution_count": 46,
     "metadata": {},
     "output_type": "execute_result"
    }
   ],
   "source": [
    "unique_elements, counts_elements = np.unique(kmeans_scikit.labels_, return_counts=True)\n",
    "unique_elements, counts_elements\n",
    "#kmeans.cluster_centers_"
   ]
  },
  {
   "cell_type": "code",
   "execution_count": 47,
   "metadata": {},
   "outputs": [
    {
     "data": {
      "text/plain": [
       "array([[-23.67208388, -46.71020264],\n",
       "       [-23.55530316, -46.61424948],\n",
       "       [-23.55022315, -46.45819035],\n",
       "       [-21.49033141, -51.25188869],\n",
       "       [-23.50972055, -46.70846583]])"
      ]
     },
     "execution_count": 47,
     "metadata": {},
     "output_type": "execute_result"
    }
   ],
   "source": [
    "kmeans_scikit.cluster_centers_"
   ]
  },
  {
   "cell_type": "code",
   "execution_count": null,
   "metadata": {},
   "outputs": [],
   "source": [
    "def number_of_clusters(dataset, n_clusters):\n",
    "    wcss = []\n",
    "    for n in range(2, n_clusters+1):\n",
    "        kmeans = KMeans(n_clusters=n)\n",
    "        kmeans.fit(dataset)\n",
    "        wcss.append(kmeans.inertia_)\n",
    "\n",
    "    x1, y1 = 2, wcss[0]\n",
    "    x2, y2 = n_clusters, wcss[len(wcss)-1]\n",
    "\n",
    "    distances = []\n",
    "    for i in range(len(wcss)):\n",
    "        x0 = i+2\n",
    "        y0 = wcss[i]\n",
    "        numerator = abs((y2-y1)*x0 - (x2-x1)*y0 + x2*y1 - y2*x1)\n",
    "        denominator = np.sqrt((y2 - y1)**2 + (x2 - x1)**2)\n",
    "        distances.append(numerator/denominator)\n",
    "    \n",
    "    return distances.index(max(distances)) + 2"
   ]
  },
  {
   "cell_type": "code",
   "execution_count": 56,
   "metadata": {},
   "outputs": [
    {
     "name": "stdout",
     "output_type": "stream",
     "text": [
      "Inércia =  1858.0993285978254\n"
     ]
    },
    {
     "data": {
      "image/png": "[encoded data removed]",
      "text/plain": [
       "<Figure size 432x288 with 1 Axes>"
      ]
     },
     "metadata": {
      "needs_background": "light"
     },
     "output_type": "display_data"
    }
   ],
   "source": [
    "from sklearn.cluster import KMeans\n",
    "kmeans_scikit = KMeans(n_clusters=10, random_state=0).fit(X)\n",
    "\n",
    "print(\"Inércia = \", kmeans_scikit.inertia_)\n",
    "\n",
    "plt.scatter(X[:,0], X[:,1], c=kmeans_scikit.labels_)\n",
    "plt.scatter(kmeans_scikit.cluster_centers_[:,0], \n",
    "            kmeans_scikit.cluster_centers_[:,1], marker='^', c='red', s=100)\n",
    "plt.show()"
   ]
  },
  {
   "cell_type": "markdown",
   "metadata": {},
   "source": [
    "# Pymove Testes"
   ]
  },
  {
   "cell_type": "code",
   "execution_count": 34,
   "metadata": {},
   "outputs": [],
   "source": [
    "import pymove\n",
    "from pymove import MoveDataFrame"
   ]
  },
  {
   "cell_type": "code",
   "execution_count": null,
   "metadata": {},
   "outputs": [],
   "source": [
    "move_df = MoveDataFrame(data=all_data, latitude=\"LATITUDE\", longitude=\"LONGITUDE\", datetime=\"DATAOCORRENCIA\", traj_id=\"NUM_BO\")"
   ]
  },
  {
   "cell_type": "code",
   "execution_count": 57,
   "metadata": {},
   "outputs": [
    {
     "data": {
      "text/html": [
       "<div>\n",
       "<style scoped>\n",
       "    .dataframe tbody tr th:only-of-type {\n",
       "        vertical-align: middle;\n",
       "    }\n",
       "\n",
       "    .dataframe tbody tr th {\n",
       "        vertical-align: top;\n",
       "    }\n",
       "\n",
       "    .dataframe thead th {\n",
       "        text-align: right;\n",
       "    }\n",
       "</style>\n",
       "<table border=\"1\" class=\"dataframe\">\n",
       "  <thead>\n",
       "    <tr style=\"text-align: right;\">\n",
       "      <th></th>\n",
       "      <th>lat</th>\n",
       "      <th>lon</th>\n",
       "    </tr>\n",
       "  </thead>\n",
       "  <tbody>\n",
       "    <tr>\n",
       "      <th>0</th>\n",
       "      <td>-23.710776</td>\n",
       "      <td>-46.675971</td>\n",
       "    </tr>\n",
       "    <tr>\n",
       "      <th>1</th>\n",
       "      <td>-23.588791</td>\n",
       "      <td>-46.494471</td>\n",
       "    </tr>\n",
       "    <tr>\n",
       "      <th>2</th>\n",
       "      <td>-23.616559</td>\n",
       "      <td>-46.621145</td>\n",
       "    </tr>\n",
       "    <tr>\n",
       "      <th>3</th>\n",
       "      <td>-23.474814</td>\n",
       "      <td>-46.707144</td>\n",
       "    </tr>\n",
       "    <tr>\n",
       "      <th>4</th>\n",
       "      <td>-21.490331</td>\n",
       "      <td>-51.251889</td>\n",
       "    </tr>\n",
       "    <tr>\n",
       "      <th>5</th>\n",
       "      <td>-23.664841</td>\n",
       "      <td>-46.757936</td>\n",
       "    </tr>\n",
       "    <tr>\n",
       "      <th>6</th>\n",
       "      <td>-23.543343</td>\n",
       "      <td>-46.643272</td>\n",
       "    </tr>\n",
       "    <tr>\n",
       "      <th>7</th>\n",
       "      <td>-23.586146</td>\n",
       "      <td>-46.724773</td>\n",
       "    </tr>\n",
       "    <tr>\n",
       "      <th>8</th>\n",
       "      <td>-23.523020</td>\n",
       "      <td>-46.427205</td>\n",
       "    </tr>\n",
       "    <tr>\n",
       "      <th>9</th>\n",
       "      <td>-23.507768</td>\n",
       "      <td>-46.567485</td>\n",
       "    </tr>\n",
       "  </tbody>\n",
       "</table>\n",
       "</div>"
      ],
      "text/plain": [
       "         lat        lon\n",
       "0 -23.710776 -46.675971\n",
       "1 -23.588791 -46.494471\n",
       "2 -23.616559 -46.621145\n",
       "3 -23.474814 -46.707144\n",
       "4 -21.490331 -51.251889\n",
       "5 -23.664841 -46.757936\n",
       "6 -23.543343 -46.643272\n",
       "7 -23.586146 -46.724773\n",
       "8 -23.523020 -46.427205\n",
       "9 -23.507768 -46.567485"
      ]
     },
     "execution_count": 57,
     "metadata": {},
     "output_type": "execute_result"
    }
   ],
   "source": [
    "clusters = pd.DataFrame(kmeans_scikit.cluster_centers_, columns=['lat','lon'])\n",
    "clusters"
   ]
  },
  {
   "cell_type": "code",
   "execution_count": 58,
   "metadata": {},
   "outputs": [
    {
     "data": {
      "text/html": [
       "<div style=\"width:100%;\"><div style=\"position:relative;width:100%;height:0;padding-bottom:60%;\"><span style=\"color:#565656\">Make this Notebook Trusted to load map: File -> Trust Notebook</span><iframe src=\"about:blank\" style=\"position:absolute;width:100%;height:100%;left:0;top:0;border:none !important;\" data-html=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 onload=\"this.contentDocument.open();this.contentDocument.write(atob(this.getAttribute('data-html')));this.contentDocument.close();\" allowfullscreen webkitallowfullscreen mozallowfullscreen></iframe></div></div>"
      ],
      "text/plain": [
       "<folium.folium.Map at 0x7f80cfc07550>"
      ]
     },
     "execution_count": 58,
     "metadata": {},
     "output_type": "execute_result"
    }
   ],
   "source": [
    "from folium import Map\n",
    "from folium.plugins import HeatMap\n",
    "from folium.plugins import FastMarkerCluster\n",
    "\n",
    "pointMap = Map([-23.550, -46.620], zoom_start=10.5, width='100%', height='100%')\n",
    "pointMap.add_child(FastMarkerCluster(clusters))\n",
    "pointMap\n",
    "#pymove.visualization.folium.plot_markers(clusters)\n",
    "#all_data.to_csv(index=False, doublequote=False, decimal='.',quoting=csv.QUOTE_NONE)"
   ]
  },
  {
   "cell_type": "code",
   "execution_count": 53,
   "metadata": {},
   "outputs": [],
   "source": [
    "from sklearn.cluster import AgglomerativeClustering\n",
    "clustering = AgglomerativeClustering(n_clusters=5,affinity='euclidean').fit(X[:5000])\n"
   ]
  },
  {
   "cell_type": "code",
   "execution_count": 54,
   "metadata": {},
   "outputs": [
    {
     "data": {
      "text/plain": [
       "(array([0, 1, 2, 3, 4]), array([1244,  542, 1535,  916,  763]))"
      ]
     },
     "execution_count": 54,
     "metadata": {},
     "output_type": "execute_result"
    }
   ],
   "source": [
    "uniques, countss = np.unique(clustering.labels_, return_counts=True)\n",
    "uniques, countss"
   ]
  },
  {
   "cell_type": "code",
   "execution_count": 55,
   "metadata": {},
   "outputs": [
    {
     "ename": "KeyboardInterrupt",
     "evalue": "",
     "output_type": "error",
     "traceback": [
      "\u001b[0;31m---------------------------------------------------------------------------\u001b[0m",
      "\u001b[0;31mKeyboardInterrupt\u001b[0m                         Traceback (most recent call last)",
      "\u001b[0;32m<ipython-input-55-d46bae7a60af>\u001b[0m in \u001b[0;36m<module>\u001b[0;34m()\u001b[0m\n\u001b[1;32m      1\u001b[0m \u001b[0;32mfrom\u001b[0m \u001b[0msklearn\u001b[0m\u001b[0;34m.\u001b[0m\u001b[0mcluster\u001b[0m \u001b[0;32mimport\u001b[0m \u001b[0mOPTICS\u001b[0m\u001b[0;34m\u001b[0m\u001b[0;34m\u001b[0m\u001b[0m\n\u001b[0;32m----> 2\u001b[0;31m \u001b[0mclustering\u001b[0m \u001b[0;34m=\u001b[0m \u001b[0mOPTICS\u001b[0m\u001b[0;34m(\u001b[0m\u001b[0mmin_samples\u001b[0m\u001b[0;34m=\u001b[0m\u001b[0;36m5\u001b[0m\u001b[0;34m)\u001b[0m\u001b[0;34m.\u001b[0m\u001b[0mfit\u001b[0m\u001b[0;34m(\u001b[0m\u001b[0mX\u001b[0m\u001b[0;34m)\u001b[0m\u001b[0;34m\u001b[0m\u001b[0;34m\u001b[0m\u001b[0m\n\u001b[0m",
      "\u001b[0;32m/home/everson/miniconda3/envs/py3k/lib/python3.7/site-packages/sklearn/cluster/_optics.py\u001b[0m in \u001b[0;36mfit\u001b[0;34m(self, X, y)\u001b[0m\n\u001b[1;32m    257\u001b[0m              \u001b[0mleaf_size\u001b[0m\u001b[0;34m=\u001b[0m\u001b[0mself\u001b[0m\u001b[0;34m.\u001b[0m\u001b[0mleaf_size\u001b[0m\u001b[0;34m,\u001b[0m \u001b[0mmetric\u001b[0m\u001b[0;34m=\u001b[0m\u001b[0mself\u001b[0m\u001b[0;34m.\u001b[0m\u001b[0mmetric\u001b[0m\u001b[0;34m,\u001b[0m\u001b[0;34m\u001b[0m\u001b[0;34m\u001b[0m\u001b[0m\n\u001b[1;32m    258\u001b[0m              \u001b[0mmetric_params\u001b[0m\u001b[0;34m=\u001b[0m\u001b[0mself\u001b[0m\u001b[0;34m.\u001b[0m\u001b[0mmetric_params\u001b[0m\u001b[0;34m,\u001b[0m \u001b[0mp\u001b[0m\u001b[0;34m=\u001b[0m\u001b[0mself\u001b[0m\u001b[0;34m.\u001b[0m\u001b[0mp\u001b[0m\u001b[0;34m,\u001b[0m \u001b[0mn_jobs\u001b[0m\u001b[0;34m=\u001b[0m\u001b[0mself\u001b[0m\u001b[0;34m.\u001b[0m\u001b[0mn_jobs\u001b[0m\u001b[0;34m,\u001b[0m\u001b[0;34m\u001b[0m\u001b[0;34m\u001b[0m\u001b[0m\n\u001b[0;32m--> 259\u001b[0;31m              max_eps=self.max_eps)\n\u001b[0m\u001b[1;32m    260\u001b[0m \u001b[0;34m\u001b[0m\u001b[0m\n\u001b[1;32m    261\u001b[0m         \u001b[0;31m# Extract clusters from the calculated orders and reachability\u001b[0m\u001b[0;34m\u001b[0m\u001b[0;34m\u001b[0m\u001b[0;34m\u001b[0m\u001b[0m\n",
      "\u001b[0;32m/home/everson/miniconda3/envs/py3k/lib/python3.7/site-packages/sklearn/utils/validation.py\u001b[0m in \u001b[0;36minner_f\u001b[0;34m(*args, **kwargs)\u001b[0m\n\u001b[1;32m     70\u001b[0m                           FutureWarning)\n\u001b[1;32m     71\u001b[0m         \u001b[0mkwargs\u001b[0m\u001b[0;34m.\u001b[0m\u001b[0mupdate\u001b[0m\u001b[0;34m(\u001b[0m\u001b[0;34m{\u001b[0m\u001b[0mk\u001b[0m\u001b[0;34m:\u001b[0m \u001b[0marg\u001b[0m \u001b[0;32mfor\u001b[0m \u001b[0mk\u001b[0m\u001b[0;34m,\u001b[0m \u001b[0marg\u001b[0m \u001b[0;32min\u001b[0m \u001b[0mzip\u001b[0m\u001b[0;34m(\u001b[0m\u001b[0msig\u001b[0m\u001b[0;34m.\u001b[0m\u001b[0mparameters\u001b[0m\u001b[0;34m,\u001b[0m \u001b[0margs\u001b[0m\u001b[0;34m)\u001b[0m\u001b[0;34m}\u001b[0m\u001b[0;34m)\u001b[0m\u001b[0;34m\u001b[0m\u001b[0;34m\u001b[0m\u001b[0m\n\u001b[0;32m---> 72\u001b[0;31m         \u001b[0;32mreturn\u001b[0m \u001b[0mf\u001b[0m\u001b[0;34m(\u001b[0m\u001b[0;34m**\u001b[0m\u001b[0mkwargs\u001b[0m\u001b[0;34m)\u001b[0m\u001b[0;34m\u001b[0m\u001b[0;34m\u001b[0m\u001b[0m\n\u001b[0m\u001b[1;32m     73\u001b[0m     \u001b[0;32mreturn\u001b[0m \u001b[0minner_f\u001b[0m\u001b[0;34m\u001b[0m\u001b[0;34m\u001b[0m\u001b[0m\n\u001b[1;32m     74\u001b[0m \u001b[0;34m\u001b[0m\u001b[0m\n",
      "\u001b[0;32m/home/everson/miniconda3/envs/py3k/lib/python3.7/site-packages/sklearn/cluster/_optics.py\u001b[0m in \u001b[0;36mcompute_optics_graph\u001b[0;34m(X, min_samples, max_eps, metric, p, metric_params, algorithm, leaf_size, n_jobs)\u001b[0m\n\u001b[1;32m    497\u001b[0m                             \u001b[0mprocessed\u001b[0m\u001b[0;34m=\u001b[0m\u001b[0mprocessed\u001b[0m\u001b[0;34m,\u001b[0m \u001b[0mX\u001b[0m\u001b[0;34m=\u001b[0m\u001b[0mX\u001b[0m\u001b[0;34m,\u001b[0m \u001b[0mnbrs\u001b[0m\u001b[0;34m=\u001b[0m\u001b[0mnbrs\u001b[0m\u001b[0;34m,\u001b[0m\u001b[0;34m\u001b[0m\u001b[0;34m\u001b[0m\u001b[0m\n\u001b[1;32m    498\u001b[0m                             \u001b[0mmetric\u001b[0m\u001b[0;34m=\u001b[0m\u001b[0mmetric\u001b[0m\u001b[0;34m,\u001b[0m \u001b[0mmetric_params\u001b[0m\u001b[0;34m=\u001b[0m\u001b[0mmetric_params\u001b[0m\u001b[0;34m,\u001b[0m\u001b[0;34m\u001b[0m\u001b[0;34m\u001b[0m\u001b[0m\n\u001b[0;32m--> 499\u001b[0;31m                             p=p, max_eps=max_eps)\n\u001b[0m\u001b[1;32m    500\u001b[0m     \u001b[0;32mif\u001b[0m \u001b[0mnp\u001b[0m\u001b[0;34m.\u001b[0m\u001b[0mall\u001b[0m\u001b[0;34m(\u001b[0m\u001b[0mnp\u001b[0m\u001b[0;34m.\u001b[0m\u001b[0misinf\u001b[0m\u001b[0;34m(\u001b[0m\u001b[0mreachability_\u001b[0m\u001b[0;34m)\u001b[0m\u001b[0;34m)\u001b[0m\u001b[0;34m:\u001b[0m\u001b[0;34m\u001b[0m\u001b[0;34m\u001b[0m\u001b[0m\n\u001b[1;32m    501\u001b[0m         warnings.warn(\"All reachability values are inf. Set a larger\"\n",
      "\u001b[0;32m/home/everson/miniconda3/envs/py3k/lib/python3.7/site-packages/sklearn/cluster/_optics.py\u001b[0m in \u001b[0;36m_set_reach_dist\u001b[0;34m(core_distances_, reachability_, predecessor_, point_index, processed, X, nbrs, metric, metric_params, p, max_eps)\u001b[0m\n\u001b[1;32m    516\u001b[0m \u001b[0;34m\u001b[0m\u001b[0m\n\u001b[1;32m    517\u001b[0m     \u001b[0;31m# Getting indices of neighbors that have not been processed\u001b[0m\u001b[0;34m\u001b[0m\u001b[0;34m\u001b[0m\u001b[0;34m\u001b[0m\u001b[0m\n\u001b[0;32m--> 518\u001b[0;31m     \u001b[0munproc\u001b[0m \u001b[0;34m=\u001b[0m \u001b[0mnp\u001b[0m\u001b[0;34m.\u001b[0m\u001b[0mcompress\u001b[0m\u001b[0;34m(\u001b[0m\u001b[0;34m~\u001b[0m\u001b[0mnp\u001b[0m\u001b[0;34m.\u001b[0m\u001b[0mtake\u001b[0m\u001b[0;34m(\u001b[0m\u001b[0mprocessed\u001b[0m\u001b[0;34m,\u001b[0m \u001b[0mindices\u001b[0m\u001b[0;34m)\u001b[0m\u001b[0;34m,\u001b[0m \u001b[0mindices\u001b[0m\u001b[0;34m)\u001b[0m\u001b[0;34m\u001b[0m\u001b[0;34m\u001b[0m\u001b[0m\n\u001b[0m\u001b[1;32m    519\u001b[0m     \u001b[0;31m# Neighbors of current point are already processed.\u001b[0m\u001b[0;34m\u001b[0m\u001b[0;34m\u001b[0m\u001b[0;34m\u001b[0m\u001b[0m\n\u001b[1;32m    520\u001b[0m     \u001b[0;32mif\u001b[0m \u001b[0;32mnot\u001b[0m \u001b[0munproc\u001b[0m\u001b[0;34m.\u001b[0m\u001b[0msize\u001b[0m\u001b[0;34m:\u001b[0m\u001b[0;34m\u001b[0m\u001b[0;34m\u001b[0m\u001b[0m\n",
      "\u001b[0;32m<__array_function__ internals>\u001b[0m in \u001b[0;36mtake\u001b[0;34m(*args, **kwargs)\u001b[0m\n",
      "\u001b[0;32m/home/everson/miniconda3/envs/py3k/lib/python3.7/site-packages/numpy/core/fromnumeric.py\u001b[0m in \u001b[0;36mtake\u001b[0;34m(a, indices, axis, out, mode)\u001b[0m\n\u001b[1;32m    189\u001b[0m            [5, 7]])\n\u001b[1;32m    190\u001b[0m     \"\"\"\n\u001b[0;32m--> 191\u001b[0;31m     \u001b[0;32mreturn\u001b[0m \u001b[0m_wrapfunc\u001b[0m\u001b[0;34m(\u001b[0m\u001b[0ma\u001b[0m\u001b[0;34m,\u001b[0m \u001b[0;34m'take'\u001b[0m\u001b[0;34m,\u001b[0m \u001b[0mindices\u001b[0m\u001b[0;34m,\u001b[0m \u001b[0maxis\u001b[0m\u001b[0;34m=\u001b[0m\u001b[0maxis\u001b[0m\u001b[0;34m,\u001b[0m \u001b[0mout\u001b[0m\u001b[0;34m=\u001b[0m\u001b[0mout\u001b[0m\u001b[0;34m,\u001b[0m \u001b[0mmode\u001b[0m\u001b[0;34m=\u001b[0m\u001b[0mmode\u001b[0m\u001b[0;34m)\u001b[0m\u001b[0;34m\u001b[0m\u001b[0;34m\u001b[0m\u001b[0m\n\u001b[0m\u001b[1;32m    192\u001b[0m \u001b[0;34m\u001b[0m\u001b[0m\n\u001b[1;32m    193\u001b[0m \u001b[0;34m\u001b[0m\u001b[0m\n",
      "\u001b[0;32m/home/everson/miniconda3/envs/py3k/lib/python3.7/site-packages/numpy/core/fromnumeric.py\u001b[0m in \u001b[0;36m_wrapfunc\u001b[0;34m(obj, method, *args, **kwds)\u001b[0m\n\u001b[1;32m     56\u001b[0m \u001b[0;34m\u001b[0m\u001b[0m\n\u001b[1;32m     57\u001b[0m     \u001b[0;32mtry\u001b[0m\u001b[0;34m:\u001b[0m\u001b[0;34m\u001b[0m\u001b[0;34m\u001b[0m\u001b[0m\n\u001b[0;32m---> 58\u001b[0;31m         \u001b[0;32mreturn\u001b[0m \u001b[0mbound\u001b[0m\u001b[0;34m(\u001b[0m\u001b[0;34m*\u001b[0m\u001b[0margs\u001b[0m\u001b[0;34m,\u001b[0m \u001b[0;34m**\u001b[0m\u001b[0mkwds\u001b[0m\u001b[0;34m)\u001b[0m\u001b[0;34m\u001b[0m\u001b[0;34m\u001b[0m\u001b[0m\n\u001b[0m\u001b[1;32m     59\u001b[0m     \u001b[0;32mexcept\u001b[0m \u001b[0mTypeError\u001b[0m\u001b[0;34m:\u001b[0m\u001b[0;34m\u001b[0m\u001b[0;34m\u001b[0m\u001b[0m\n\u001b[1;32m     60\u001b[0m         \u001b[0;31m# A TypeError occurs if the object does have such a method in its\u001b[0m\u001b[0;34m\u001b[0m\u001b[0;34m\u001b[0m\u001b[0;34m\u001b[0m\u001b[0m\n",
      "\u001b[0;31mKeyboardInterrupt\u001b[0m: "
     ]
    }
   ],
   "source": [
    "from sklearn.cluster import OPTICS\n",
    "clustering = OPTICS(min_samples=5).fit(X)"
   ]
  },
  {
   "cell_type": "code",
   "execution_count": null,
   "metadata": {},
   "outputs": [],
   "source": [
    "from sklearn.neighbors import NearestNeighbors\n",
    "\n",
    "nbrs = NearestNeighbors(n_neighbors=2, algorithm='ball_tree').fit(X)\n",
    "distances, indices = nbrs.kneighbors(X)"
   ]
  },
  {
   "cell_type": "code",
   "execution_count": null,
   "metadata": {},
   "outputs": [],
   "source": [
    "# kms_per_radian = 6371.0088\n",
    "# epsilon = 1.5 / kms_per_radian\n",
    "# db = DBSCAN(eps=epsilon, min_samples=5, algorithm='ball_tree', metric='haversine').fit(np.radians(dataf))\n",
    "# cluster_labels = db.labels_\n",
    "# num_clusters = len(set(cluster_labels))\n",
    "# clusters = pd.Series([dataf[cluster_labels == n] for n in range(num_clusters)])\n",
    "# print('Number of clusters: {}'.format(num_clusters))"
   ]
  },
  {
   "cell_type": "code",
   "execution_count": null,
   "metadata": {},
   "outputs": [],
   "source": [
    "# def get_centermost_point(cluster):\n",
    "#     centroid = (MultiPoint(cluster).centroid.x, MultiPoint(cluster).centroid.y)\n",
    "#     centermost_point = min(cluster, key=lambda point: great_circle(point, centroid).m)\n",
    "#     return tuple(centermost_point)\n",
    "# centermost_points = clusters.map(get_centermost_point)"
   ]
  },
  {
   "cell_type": "code",
   "execution_count": null,
   "metadata": {},
   "outputs": [],
   "source": [
    "# lats, lons = zip(*centermost_points)\n",
    "# rep_points = pd.DataFrame({'lon':lons, 'lat':lats})"
   ]
  },
  {
   "cell_type": "code",
   "execution_count": null,
   "metadata": {},
   "outputs": [],
   "source": [
    "# rs = rep_points.apply(lambda row: coords[(coords['LATITUDE']==row['lat']) & (coords['LONGITUDE']==row['lon'])].iloc[0], axis=1)"
   ]
  },
  {
   "cell_type": "code",
   "execution_count": null,
   "metadata": {},
   "outputs": [],
   "source": [
    "# fig, ax = plt.subplots(figsize=[10, 6])\n",
    "# rs_scatter = ax.scatter(rs['LONGITUDE'], rs['LATITUDE'], c='#99cc99', edgecolor='None', alpha=0.7, s=120)\n",
    "# df_scatter = ax.scatter(coords['LONGITUDE'], coords['LATITUDE'], c='k', alpha=0.9, s=3)\n",
    "# ax.set_title('Full data set vs DBSCAN reduced set')\n",
    "# ax.set_xlabel('Longitude')\n",
    "# ax.set_ylabel('Latitude')\n",
    "# ax.legend([df_scatter, rs_scatter], ['Full set', 'Reduced set'], loc='upper right')\n",
    "# plt.show()"
   ]
  }
 ],
 "metadata": {
  "kernelspec": {
   "display_name": "Python 3",
   "language": "python",
   "name": "python3"
  },
  "language_info": {
   "codemirror_mode": {
    "name": "ipython",
    "version": 3
   },
   "file_extension": ".py",
   "mimetype": "text/x-python",
   "name": "python",
   "nbconvert_exporter": "python",
   "pygments_lexer": "ipython3",
   "version": "3.7.9"
  }
 },
 "nbformat": 4,
 "nbformat_minor": 4
}
